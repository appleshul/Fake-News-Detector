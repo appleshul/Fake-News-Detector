{
 "cells": [
  {
   "cell_type": "code",
   "execution_count": 54,
   "id": "b0e16b86",
   "metadata": {},
   "outputs": [],
   "source": [
    "import pandas as pd\n",
    "import numpy as np\n",
    "import seaborn as sns\n",
    "import matplotlib.pyplot as plt\n",
    "from prettytable import PrettyTable\n",
    "from tqdm import tqdm\n",
    "import re\n",
    "from sklearn.svm import LinearSVC\n",
    "from sklearn.feature_extraction.text import TfidfVectorizer\n",
    "from sklearn.feature_extraction.text import CountVectorizer\n",
    "from sklearn.model_selection import train_test_split\n",
    "from sklearn.naive_bayes import MultinomialNB\n",
    "from sklearn.linear_model import LogisticRegression\n",
    "from sklearn.model_selection import GridSearchCV\n",
    "from sklearn.metrics import f1_score,roc_auc_score,accuracy_score,confusion_matrix\n",
    "from sklearn.tree import DecisionTreeClassifier"
   ]
  },
  {
   "cell_type": "code",
   "execution_count": 3,
   "id": "d789617c",
   "metadata": {},
   "outputs": [],
   "source": [
    "import warnings\n",
    "warnings.filterwarnings(\"ignore\")"
   ]
  },
  {
   "cell_type": "code",
   "execution_count": null,
   "id": "8aedab94",
   "metadata": {},
   "outputs": [],
   "source": [
    "df_real = pd.read_csv('True.csv')\n",
    "df_real.head(50)"
   ]
  },
  {
   "cell_type": "code",
   "execution_count": null,
   "id": "e35a5b7d",
   "metadata": {},
   "outputs": [],
   "source": [
    "df_real.describe()"
   ]
  },
  {
   "cell_type": "code",
   "execution_count": null,
   "id": "de519784",
   "metadata": {},
   "outputs": [],
   "source": [
    "df_real.subject.value_counts()"
   ]
  },
  {
   "cell_type": "code",
   "execution_count": null,
   "id": "bc2b9ec7",
   "metadata": {},
   "outputs": [],
   "source": [
    "df_real.isna().sum()"
   ]
  },
  {
   "cell_type": "code",
   "execution_count": null,
   "id": "0c339a72",
   "metadata": {},
   "outputs": [],
   "source": [
    "df_real['date'] = df_real['date'].str.strip()"
   ]
  },
  {
   "cell_type": "code",
   "execution_count": null,
   "id": "2df93651",
   "metadata": {},
   "outputs": [],
   "source": [
    "df_real.text[0]"
   ]
  },
  {
   "cell_type": "code",
   "execution_count": null,
   "id": "ca5d30b8",
   "metadata": {
    "scrolled": true
   },
   "outputs": [],
   "source": [
    "df_fake = pd.read_csv('fake.csv')\n",
    "df_fake.head(50)"
   ]
  },
  {
   "cell_type": "markdown",
   "id": "e1504b81",
   "metadata": {},
   "source": [
    "### Standard Preprocessing"
   ]
  },
  {
   "cell_type": "code",
   "execution_count": null,
   "id": "00c59a09",
   "metadata": {},
   "outputs": [],
   "source": [
    "import nltk\n",
    "nltk.download('all')"
   ]
  },
  {
   "cell_type": "code",
   "execution_count": 55,
   "id": "73e78fe7",
   "metadata": {},
   "outputs": [],
   "source": [
    "from nltk import word_tokenize, pos_tag, ne_chunk\n",
    "from nltk.tree import *"
   ]
  },
  {
   "cell_type": "code",
   "execution_count": 56,
   "id": "260c656b",
   "metadata": {},
   "outputs": [],
   "source": [
    "def chunking_process(txt):\n",
    "  chunks = list(ne_chunk(pos_tag(word_tokenize(txt))))\n",
    "  gpe_list = []\n",
    "  person_list = []\n",
    "  for i in chunks:\n",
    "    if type(i)==Tree:\n",
    "      person_list.append(i)\n",
    "      if i.label() == \"GPE\":\n",
    "        gpe_list.append(i.leaves())\n",
    "      elif i.label() == \"PERSON\":\n",
    "        person_list.append(i.leaves())       \n",
    "\n",
    "  for j in gpe_list:\n",
    "    if len(j)>1:\n",
    "      gpe_str = \"_\".join([k for k, l in j])\n",
    "      normal_str = \" \".join([k for k, l in j])\n",
    "      txt = re.sub(re.escape(normal_str), gpe_str, txt, count = 1)\n",
    "  for j in person_list:\n",
    "    person_str = \" \".join([k for k, l in j])\n",
    "    txt = re.sub(re.escape(person_str), \" \", txt, count = 1)\n",
    "    \n",
    "  return txt"
   ]
  },
  {
   "cell_type": "code",
   "execution_count": 57,
   "id": "1342b384",
   "metadata": {},
   "outputs": [],
   "source": [
    "def decontraction(txt):\n",
    "    txt = re.sub(r\"can\\'t\", \"can not\", txt)\n",
    "    txt = re.sub(r\"won\\'t\", \"will not\", txt)\n",
    "    txt = re.sub(r\"n\\'t\", \" not\", txt)\n",
    "    txt = re.sub(r\"\\'re\", \" are\", txt)\n",
    "    txt = re.sub(r\"\\'t\", \" not\", txt)\n",
    "    txt = re.sub(r\"\\'s\", \" is\", txt)\n",
    "    txt = re.sub(r\"\\'d\", \" would\", txt)\n",
    "    txt = re.sub(r\"\\'ll\", \" will\", txt)\n",
    "    txt = re.sub(r\"\\'m\", \" am\", txt)\n",
    "    txt = re.sub(r\"\\'ve\", \" have\", txt)\n",
    "\n",
    "    return txt\n",
    "\n",
    "def to_lower(text):\n",
    "    return text.lower()\n",
    "\n",
    "def remove_whitespace(text):\n",
    "    return  \" \".join(text.split())\n",
    "\n",
    "def only_alphabets(txt):\n",
    "    txt = re.sub(r'[^a-z_]',\" \",txt)\n",
    "    return txt"
   ]
  },
  {
   "cell_type": "code",
   "execution_count": 58,
   "id": "d924165c",
   "metadata": {},
   "outputs": [],
   "source": [
    "def preprocess_text(text):\n",
    "    text = chunking_process(text)\n",
    "    text = to_lower(text)\n",
    "    text = decontraction(text)\n",
    "    if text[0].strip() == '(':\n",
    "        text = \" \".join(text.split(\"-\")[1:])\n",
    "    \n",
    "    text = only_alphabets(text)\n",
    "    text = \" \".join([word for word in text.split() if len(word)>2 and len(word)<15])\n",
    "    text = remove_whitespace(text)\n",
    "    \n",
    "    return text"
   ]
  },
  {
   "cell_type": "code",
   "execution_count": null,
   "id": "b9580052",
   "metadata": {},
   "outputs": [],
   "source": [
    "preprocess_text(df_real.text[0])"
   ]
  },
  {
   "cell_type": "code",
   "execution_count": null,
   "id": "d923dbc5",
   "metadata": {},
   "outputs": [],
   "source": [
    "df_real['label'] = 1\n",
    "df_fake['label'] = 0"
   ]
  },
  {
   "cell_type": "code",
   "execution_count": null,
   "id": "0f134004",
   "metadata": {},
   "outputs": [],
   "source": [
    "df = pd.concat([df_real, df_fake], ignore_index=True)"
   ]
  },
  {
   "cell_type": "code",
   "execution_count": null,
   "id": "144d59eb",
   "metadata": {},
   "outputs": [],
   "source": [
    "len(df)"
   ]
  },
  {
   "cell_type": "code",
   "execution_count": null,
   "id": "48545f68",
   "metadata": {},
   "outputs": [],
   "source": [
    "df[df.text == ' '].index"
   ]
  },
  {
   "cell_type": "code",
   "execution_count": null,
   "id": "0344debd",
   "metadata": {},
   "outputs": [],
   "source": [
    "df = df.drop(df[df.text == ' '].index)"
   ]
  },
  {
   "cell_type": "code",
   "execution_count": null,
   "id": "c4f1ceb5",
   "metadata": {},
   "outputs": [],
   "source": [
    "df = df.drop(df[df.text == '  '].index)"
   ]
  },
  {
   "cell_type": "code",
   "execution_count": null,
   "id": "8c405d34",
   "metadata": {},
   "outputs": [],
   "source": [
    "df.reset_index(inplace=True)"
   ]
  },
  {
   "cell_type": "code",
   "execution_count": null,
   "id": "a1fc929f",
   "metadata": {},
   "outputs": [],
   "source": [
    "from tqdm import tqdm\n",
    "\n",
    "processed = []\n",
    "for i in tqdm(range(0,22449)):\n",
    "    text = preprocess_text(df.text[i])\n",
    "    processed.append(text)\n",
    "    \n",
    "\n"
   ]
  },
  {
   "cell_type": "code",
   "execution_count": null,
   "id": "4a0eaa2b",
   "metadata": {},
   "outputs": [],
   "source": [
    "df_final = pd.DataFrame({'processed_text': processed, 'label':df[(df.index>=0) & (df.index<22449)]['label']})"
   ]
  },
  {
   "cell_type": "code",
   "execution_count": null,
   "id": "8775f19a",
   "metadata": {},
   "outputs": [],
   "source": [
    "df_final.shape"
   ]
  },
  {
   "cell_type": "code",
   "execution_count": null,
   "id": "ad256660",
   "metadata": {},
   "outputs": [],
   "source": [
    "df_final.to_csv('combined_data_without_title.csv')"
   ]
  },
  {
   "cell_type": "markdown",
   "id": "9b8d3a47",
   "metadata": {},
   "source": [
    "#### Final Data Import\n"
   ]
  },
  {
   "cell_type": "code",
   "execution_count": 5,
   "id": "3f0c3a45",
   "metadata": {},
   "outputs": [],
   "source": [
    "def loadFinalData():\n",
    "    df_final1 = pd.read_csv('combined_data_without_title.csv')\n",
    "    df_final2 = pd.read_csv('combined_data_without_title2.csv')\n",
    "    df_final = pd.concat([df_final1, df_final2], ignore_index=True)\n",
    "    df_final.dropna(inplace=True)\n",
    "    df_final = df_final.drop(df_final[df_final.processed_text.duplicated()].index)\n",
    "    return df_final"
   ]
  },
  {
   "cell_type": "code",
   "execution_count": 4,
   "id": "80f4d244",
   "metadata": {},
   "outputs": [],
   "source": [
    "df_final = loadFinalData()"
   ]
  },
  {
   "cell_type": "code",
   "execution_count": 5,
   "id": "d84fabb3",
   "metadata": {},
   "outputs": [],
   "source": [
    "X = df_final['processed_text']\n",
    "y = df_final['label']\n",
    "\n",
    "X_train, X_test, y_train, y_test = train_test_split(X, y, test_size=0.33, random_state=42, stratify=y)"
   ]
  },
  {
   "cell_type": "code",
   "execution_count": 6,
   "id": "12ab8776",
   "metadata": {},
   "outputs": [
    {
     "name": "stdout",
     "output_type": "stream",
     "text": [
      "(25758,)\n",
      "(12687,)\n"
     ]
    }
   ],
   "source": [
    "print(X_train.shape)\n",
    "print(X_test.shape)"
   ]
  },
  {
   "cell_type": "markdown",
   "id": "812c7f16",
   "metadata": {},
   "source": [
    "## 1. Finding Best Features On Logistic Regression Base Model"
   ]
  },
  {
   "cell_type": "markdown",
   "id": "6296d554",
   "metadata": {},
   "source": [
    "#### 1.1 Bag of Words"
   ]
  },
  {
   "cell_type": "code",
   "execution_count": 7,
   "id": "2e2a66d8",
   "metadata": {},
   "outputs": [],
   "source": [
    "cv = CountVectorizer()\n",
    "cv.fit(X_train)\n",
    "X_train_bow = cv.transform(X_train)\n",
    "X_test_bow = cv.transform(X_test)"
   ]
  },
  {
   "cell_type": "markdown",
   "id": "98dc5b05",
   "metadata": {},
   "source": [
    "#### 1.2 TF-IDF "
   ]
  },
  {
   "cell_type": "code",
   "execution_count": 8,
   "id": "26a360ac",
   "metadata": {},
   "outputs": [],
   "source": [
    "from sklearn.feature_extraction.text import TfidfVectorizer\n",
    "\n",
    "tfidf = TfidfVectorizer()\n",
    "tfidf.fit(X_train)\n",
    "X_train_tfidf = tfidf.transform(X_train)\n",
    "X_test_tfidf = tfidf.transform(X_test)"
   ]
  },
  {
   "cell_type": "markdown",
   "id": "28b056c0",
   "metadata": {},
   "source": [
    "<p>Running a Logistic Regression Base Model on both BoW and TF-IDF Data</p>"
   ]
  },
  {
   "cell_type": "code",
   "execution_count": 9,
   "id": "f07c3bb7",
   "metadata": {},
   "outputs": [],
   "source": [
    "from sklearn.model_selection import GridSearchCV"
   ]
  },
  {
   "cell_type": "code",
   "execution_count": 10,
   "id": "1744105c",
   "metadata": {},
   "outputs": [
    {
     "data": {
      "text/plain": [
       "GridSearchCV(cv=5, estimator=LogisticRegression(), n_jobs=-1,\n",
       "             param_grid={'C': [0.01, 1, 5, 10, 30, 50, 60, 100, 150, 200]},\n",
       "             return_train_score=True, scoring='f1')"
      ]
     },
     "execution_count": 10,
     "metadata": {},
     "output_type": "execute_result"
    }
   ],
   "source": [
    "## Hyperparam Tuning with BoW\n",
    "\n",
    "from sklearn.linear_model import LogisticRegression\n",
    "\n",
    "lr = LogisticRegression()\n",
    "params = {'C':[0.01,1,5,10,30,50,60,100,150,200]}\n",
    "grid = GridSearchCV(lr, params, cv=5, return_train_score=True, scoring='f1', n_jobs=-1)\n",
    "grid.fit(X_train_bow, y_train)\n",
    "\n"
   ]
  },
  {
   "cell_type": "code",
   "execution_count": 11,
   "id": "d54dca97",
   "metadata": {},
   "outputs": [
    {
     "data": {
      "text/plain": [
       "array([0.97579729, 0.97947456, 0.97902803, 0.9794544 , 0.9791369 ,\n",
       "       0.97898846, 0.9792694 , 0.97926162, 0.97983726, 0.9796134 ])"
      ]
     },
     "execution_count": 11,
     "metadata": {},
     "output_type": "execute_result"
    }
   ],
   "source": [
    "grid.cv_results_['mean_test_score']"
   ]
  },
  {
   "cell_type": "code",
   "execution_count": 12,
   "id": "31d7703d",
   "metadata": {},
   "outputs": [
    {
     "data": {
      "text/plain": [
       "array([0.98728445, 0.99997336, 1.        , 1.        , 1.        ,\n",
       "       1.        , 1.        , 1.        , 1.        , 1.        ])"
      ]
     },
     "execution_count": 12,
     "metadata": {},
     "output_type": "execute_result"
    }
   ],
   "source": [
    "grid.cv_results_['mean_train_score']"
   ]
  },
  {
   "cell_type": "code",
   "execution_count": 13,
   "id": "fd1537cb",
   "metadata": {},
   "outputs": [
    {
     "data": {
      "image/png": "[encoded data removed]",
      "text/plain": [
       "<Figure size 432x288 with 1 Axes>"
      ]
     },
     "metadata": {
      "needs_background": "light"
     },
     "output_type": "display_data"
    }
   ],
   "source": [
    "plt.plot(params['C'], grid.cv_results_['mean_test_score'])\n",
    "plt.plot(params['C'], grid.cv_results_['mean_train_score'])\n",
    "plt.legend([\"Test Score\", \"Train Score\"])\n",
    "plt.title(\"Hyperparam tuning for LR+BoW\")\n",
    "plt.show()"
   ]
  },
  {
   "cell_type": "code",
   "execution_count": 14,
   "id": "e82ad1fd",
   "metadata": {},
   "outputs": [],
   "source": [
    "LR_BOW = LogisticRegression(C=10)\n",
    "LR_BOW.fit(X_train_bow, y_train)\n",
    "preds = LR_BOW.predict(X_test_bow)"
   ]
  },
  {
   "cell_type": "code",
   "execution_count": 15,
   "id": "e796afa1",
   "metadata": {},
   "outputs": [],
   "source": [
    "from sklearn.metrics import f1_score, roc_auc_score, roc_curve, accuracy_score, confusion_matrix"
   ]
  },
  {
   "cell_type": "code",
   "execution_count": 16,
   "id": "6afa2069",
   "metadata": {},
   "outputs": [
    {
     "name": "stdout",
     "output_type": "stream",
     "text": [
      "F1-Score:  0.9791336883004748\n",
      "Accuracy:  0.9771419563332545\n",
      "ROC AUC Score:  0.9771852375784035\n"
     ]
    }
   ],
   "source": [
    "print(\"F1-Score: \",f1_score(preds,y_test))\n",
    "print(\"Accuracy: \",accuracy_score(preds,y_test))\n",
    "print(\"ROC AUC Score: \",roc_auc_score(preds,y_test))"
   ]
  },
  {
   "cell_type": "code",
   "execution_count": 17,
   "id": "b351c005",
   "metadata": {},
   "outputs": [
    {
     "data": {
      "image/png": "[encoded data removed]",
      "text/plain": [
       "<Figure size 432x288 with 2 Axes>"
      ]
     },
     "metadata": {
      "needs_background": "light"
     },
     "output_type": "display_data"
    }
   ],
   "source": [
    "sns.heatmap(confusion_matrix(y_test,preds), annot=True, cmap='Blues', fmt=\"d\")\n",
    "plt.xlabel(\"Predicted Values\")\n",
    "plt.ylabel(\"Actual Values\")\n",
    "plt.show()"
   ]
  },
  {
   "cell_type": "code",
   "execution_count": 18,
   "id": "5ee942fe",
   "metadata": {
    "scrolled": true
   },
   "outputs": [
    {
     "data": {
      "text/plain": [
       "GridSearchCV(cv=5, estimator=LogisticRegression(), n_jobs=-1,\n",
       "             param_grid={'C': [0.01, 1, 5, 10, 20, 30, 60, 100, 150, 200]},\n",
       "             return_train_score=True, scoring='f1')"
      ]
     },
     "execution_count": 18,
     "metadata": {},
     "output_type": "execute_result"
    }
   ],
   "source": [
    "## Hyperparam Tuning with TFIDF\n",
    "\n",
    "from sklearn.linear_model import LogisticRegression\n",
    "\n",
    "lr = LogisticRegression()\n",
    "params = {'C':[0.01,1,5,10,20,30,60,100,150,200]}\n",
    "grid = GridSearchCV(lr, params, cv=5, return_train_score=True, scoring='f1',n_jobs=-1)\n",
    "grid.fit(X_train_tfidf, y_train)"
   ]
  },
  {
   "cell_type": "code",
   "execution_count": 19,
   "id": "d805dca0",
   "metadata": {},
   "outputs": [
    {
     "data": {
      "image/png": "[encoded data removed]",
      "text/plain": [
       "<Figure size 432x288 with 1 Axes>"
      ]
     },
     "metadata": {
      "needs_background": "light"
     },
     "output_type": "display_data"
    }
   ],
   "source": [
    "plt.plot(params['C'], grid.cv_results_['mean_test_score'])\n",
    "plt.plot(params['C'], grid.cv_results_['mean_train_score'])\n",
    "plt.title(\"Hyperparam tuning for LR+TFIDF\")\n",
    "plt.legend([\"Test Score\", \"Train Score\"])\n",
    "plt.show()"
   ]
  },
  {
   "cell_type": "code",
   "execution_count": 20,
   "id": "f8140e9d",
   "metadata": {},
   "outputs": [],
   "source": [
    "LR_TFIDF = LogisticRegression(C=20)\n",
    "LR_TFIDF.fit(X_train_tfidf, y_train)\n",
    "preds = LR_TFIDF.predict(X_test_tfidf)"
   ]
  },
  {
   "cell_type": "code",
   "execution_count": 21,
   "id": "8e576986",
   "metadata": {},
   "outputs": [
    {
     "name": "stdout",
     "output_type": "stream",
     "text": [
      "F1-Score:  0.9823275862068965\n",
      "Accuracy:  0.9806100733033815\n",
      "ROC AUC Score:  0.980860968588972\n"
     ]
    }
   ],
   "source": [
    "print(\"F1-Score: \",f1_score(preds,y_test))\n",
    "print(\"Accuracy: \",accuracy_score(preds,y_test))\n",
    "print(\"ROC AUC Score: \",roc_auc_score(preds,y_test))"
   ]
  },
  {
   "cell_type": "code",
   "execution_count": 22,
   "id": "8e325152",
   "metadata": {
    "scrolled": true
   },
   "outputs": [
    {
     "data": {
      "image/png": "[encoded data removed]",
      "text/plain": [
       "<Figure size 432x288 with 2 Axes>"
      ]
     },
     "metadata": {
      "needs_background": "light"
     },
     "output_type": "display_data"
    }
   ],
   "source": [
    "sns.heatmap(confusion_matrix(y_test,preds), annot=True, cmap='Blues', fmt=\"d\")\n",
    "plt.xlabel(\"Predicted Values\")\n",
    "plt.ylabel(\"Actual Values\")\n",
    "plt.show()"
   ]
  },
  {
   "cell_type": "markdown",
   "id": "54f1b131",
   "metadata": {},
   "source": [
    "### Conclusion: We get a slightly better F1 Score when using the tf-idf features"
   ]
  },
  {
   "cell_type": "markdown",
   "id": "c9625da8",
   "metadata": {},
   "source": [
    "<p> Using Max Features on BoW and tfidf and comparing scores"
   ]
  },
  {
   "cell_type": "code",
   "execution_count": 23,
   "id": "8334cc50",
   "metadata": {},
   "outputs": [],
   "source": [
    "def return_best_score_max_fea(max_fea):\n",
    "    cv = CountVectorizer(max_features=max_fea)\n",
    "    cv.fit(X_train)\n",
    "    X_train_bow = cv.transform(X_train)\n",
    "    X_test_bow = cv.transform(X_test)\n",
    "\n",
    "    tfidf = TfidfVectorizer(max_features=max_fea)\n",
    "    tfidf.fit(X_train)\n",
    "    X_train_tfidf = tfidf.transform(X_train)\n",
    "    X_test_tfidf = tfidf.transform(X_test)\n",
    "    \n",
    "\n",
    "    lr = LogisticRegression()\n",
    "    params = {'C':[0.01,0.1,1,5,7,10,20]}\n",
    "    grid = GridSearchCV(lr, params, cv=5, return_train_score=True, scoring='f1')\n",
    "    grid.fit(X_train_bow, y_train)\n",
    "    \n",
    "    best_score_bow = grid.best_score_\n",
    "    \n",
    "    lr = LogisticRegression()\n",
    "    params = {'C':[0.01,0.1,1,5,7,10,20]}\n",
    "    grid = GridSearchCV(lr, params, cv=5, return_train_score=True, scoring='f1')\n",
    "    grid.fit(X_train_tfidf, y_train)\n",
    "    \n",
    "    best_score_tfidf = grid.best_score_\n",
    "    \n",
    "    return best_score_bow, best_score_tfidf\n"
   ]
  },
  {
   "cell_type": "code",
   "execution_count": 24,
   "id": "1dfb031c",
   "metadata": {},
   "outputs": [],
   "source": [
    "from tqdm import tqdm"
   ]
  },
  {
   "cell_type": "code",
   "execution_count": 25,
   "id": "ccf4a509",
   "metadata": {},
   "outputs": [
    {
     "name": "stderr",
     "output_type": "stream",
     "text": [
      "100%|██████████████████████████████████████████████████████████████████████████████████| 19/19 [27:53<00:00, 88.09s/it]\n"
     ]
    }
   ],
   "source": [
    "best_scores_bow_fea = []\n",
    "best_scores_tfidf_fea = []\n",
    "max_fea = [2000,5000,6000,7000,8000,8500,9000,12000,14000,14500,15000,16000,17000,20000,25000,30000,50000,60000,75000]\n",
    "\n",
    "for i in tqdm(max_fea):\n",
    "    vals = return_best_score_max_fea(i)\n",
    "    best_scores_bow_fea.append(vals[0])\n",
    "    best_scores_tfidf_fea.append(vals[1])                          "
   ]
  },
  {
   "cell_type": "code",
   "execution_count": 26,
   "id": "f5624edb",
   "metadata": {},
   "outputs": [
    {
     "name": "stdout",
     "output_type": "stream",
     "text": [
      "For max_features =  2000 , BoW Score =  0.9776868088608042  and TF-IDF Score =  0.9794587874250039\n",
      "For max_features =  5000 , BoW Score =  0.9803068376430504  and TF-IDF Score =  0.9819412170939895\n",
      "For max_features =  6000 , BoW Score =  0.9802353965401162  and TF-IDF Score =  0.9820811398618092\n",
      "For max_features =  7000 , BoW Score =  0.9801303698428505  and TF-IDF Score =  0.9822249360751943\n",
      "For max_features =  8000 , BoW Score =  0.9805492022017891  and TF-IDF Score =  0.9823659390311906\n",
      "For max_features =  8500 , BoW Score =  0.9804132985074581  and TF-IDF Score =  0.9823930540921559\n",
      "For max_features =  9000 , BoW Score =  0.9803397063085237  and TF-IDF Score =  0.982397406667196\n",
      "For max_features =  12000 , BoW Score =  0.9804139539251111  and TF-IDF Score =  0.982854694248763\n",
      "For max_features =  14000 , BoW Score =  0.9804172418449463  and TF-IDF Score =  0.9828567953173055\n",
      "For max_features =  14500 , BoW Score =  0.980350873206054  and TF-IDF Score =  0.9828235326298858\n",
      "For max_features =  15000 , BoW Score =  0.9803853011845334  and TF-IDF Score =  0.9829246072743819\n",
      "For max_features =  16000 , BoW Score =  0.9804128456878386  and TF-IDF Score =  0.9830300111047723\n",
      "For max_features =  17000 , BoW Score =  0.9803436658598838  and TF-IDF Score =  0.9828896414124004\n",
      "For max_features =  20000 , BoW Score =  0.9803103764006889  and TF-IDF Score =  0.9829311986759508\n",
      "For max_features =  25000 , BoW Score =  0.9802394210122702  and TF-IDF Score =  0.9830703922608063\n",
      "For max_features =  30000 , BoW Score =  0.9801368068400235  and TF-IDF Score =  0.9828942166285011\n",
      "For max_features =  50000 , BoW Score =  0.9801354583003171  and TF-IDF Score =  0.983067823927003\n",
      "For max_features =  60000 , BoW Score =  0.9800301524697839  and TF-IDF Score =  0.9830317156774117\n",
      "For max_features =  75000 , BoW Score =  0.9801352769179559  and TF-IDF Score =  0.9829970091373404\n"
     ]
    }
   ],
   "source": [
    "for i in range(len(max_fea)):\n",
    "    print(\"For max_features = \",max_fea[i],\", BoW Score = \",best_scores_bow_fea[i],\" and TF-IDF Score = \",best_scores_tfidf_fea[i])"
   ]
  },
  {
   "cell_type": "code",
   "execution_count": 27,
   "id": "8607d354",
   "metadata": {
    "scrolled": true
   },
   "outputs": [
    {
     "data": {
      "image/png": "[encoded data removed]",
      "text/plain": [
       "<Figure size 432x288 with 1 Axes>"
      ]
     },
     "metadata": {
      "needs_background": "light"
     },
     "output_type": "display_data"
    }
   ],
   "source": [
    "plt.plot(max_fea, best_scores_bow_fea)\n",
    "plt.plot(max_fea, best_scores_tfidf_fea)\n",
    "plt.title(\"Max Features v/s GridSearch F1 Score\")\n",
    "plt.legend([\"BoW Score\", \"TF-IDF Score\"])\n",
    "plt.show()"
   ]
  },
  {
   "cell_type": "markdown",
   "id": "dcc51012",
   "metadata": {},
   "source": [
    "<p>max_features = 25000 seems to be giving the best score, so we will try tfidf features with 25000 max features on our test data and compare it with our earlier model with no value of max_features specified."
   ]
  },
  {
   "cell_type": "code",
   "execution_count": 28,
   "id": "0ae0cc23",
   "metadata": {},
   "outputs": [],
   "source": [
    "tfidf = TfidfVectorizer(max_features=50000)\n",
    "tfidf.fit(X_train)\n",
    "X_train_tfidf = tfidf.transform(X_train)\n",
    "X_test_tfidf = tfidf.transform(X_test)"
   ]
  },
  {
   "cell_type": "code",
   "execution_count": 29,
   "id": "4f49b30d",
   "metadata": {},
   "outputs": [
    {
     "data": {
      "text/plain": [
       "GridSearchCV(cv=4, estimator=LogisticRegression(), n_jobs=-1,\n",
       "             param_grid={'C': [1, 5, 10, 20, 50, 100, 200, 250, 300]},\n",
       "             return_train_score=True, scoring='f1')"
      ]
     },
     "execution_count": 29,
     "metadata": {},
     "output_type": "execute_result"
    }
   ],
   "source": [
    "## Hyperparam Tuning with TFIDF + 50000 Max Features\n",
    "\n",
    "from sklearn.linear_model import LogisticRegression\n",
    "\n",
    "lr = LogisticRegression()\n",
    "params = {'C':[1,5,10,20,50,100,200,250,300]}\n",
    "grid = GridSearchCV(lr, params, cv=4, return_train_score=True, scoring='f1', n_jobs=-1)\n",
    "grid.fit(X_train_tfidf, y_train)\n"
   ]
  },
  {
   "cell_type": "code",
   "execution_count": 30,
   "id": "b3167d65",
   "metadata": {},
   "outputs": [
    {
     "name": "stdout",
     "output_type": "stream",
     "text": [
      "[0.98487944 0.99554349 0.99816535 0.9994198  0.99994079 1.\n",
      " 1.         1.         1.        ]\n",
      "[0.97632285 0.98144703 0.98271241 0.98274928 0.98340996 0.98358882\n",
      " 0.98361732 0.98354677 0.9836534 ]\n"
     ]
    }
   ],
   "source": [
    "print(grid.cv_results_['mean_train_score'])\n",
    "print(grid.cv_results_['mean_test_score'])"
   ]
  },
  {
   "cell_type": "code",
   "execution_count": 31,
   "id": "a53ff3ba",
   "metadata": {},
   "outputs": [
    {
     "data": {
      "image/png": "[encoded data removed]",
      "text/plain": [
       "<Figure size 432x288 with 1 Axes>"
      ]
     },
     "metadata": {
      "needs_background": "light"
     },
     "output_type": "display_data"
    }
   ],
   "source": [
    "plt.plot(params['C'], grid.cv_results_['mean_test_score'])\n",
    "plt.plot(params['C'], grid.cv_results_['mean_train_score'])\n",
    "plt.title(\"Hyperparam tuning for LR+TFIDF\")\n",
    "plt.legend([\"Test Score\", \"Train Score\"])\n",
    "plt.show()"
   ]
  },
  {
   "cell_type": "code",
   "execution_count": 33,
   "id": "b31c0258",
   "metadata": {},
   "outputs": [],
   "source": [
    "LR_TFIDF = LogisticRegression(C=50)\n",
    "LR_TFIDF.fit(X_train_tfidf, y_train)\n",
    "preds = LR_TFIDF.predict(X_test_tfidf)"
   ]
  },
  {
   "cell_type": "code",
   "execution_count": 34,
   "id": "c433260c",
   "metadata": {},
   "outputs": [
    {
     "name": "stdout",
     "output_type": "stream",
     "text": [
      "F1-Score:  0.9823981607874128\n",
      "Accuracy:  0.9806888941436116\n",
      "ROC AUC Score:  0.9809324459710892\n"
     ]
    }
   ],
   "source": [
    "print(\"F1-Score: \",f1_score(preds,y_test))\n",
    "print(\"Accuracy: \",accuracy_score(preds,y_test))\n",
    "print(\"ROC AUC Score: \",roc_auc_score(preds,y_test))"
   ]
  },
  {
   "cell_type": "code",
   "execution_count": 35,
   "id": "056d1567",
   "metadata": {},
   "outputs": [
    {
     "data": {
      "image/png": "[encoded data removed]",
      "text/plain": [
       "<Figure size 432x288 with 2 Axes>"
      ]
     },
     "metadata": {
      "needs_background": "light"
     },
     "output_type": "display_data"
    }
   ],
   "source": [
    "sns.heatmap(confusion_matrix(y_test,preds), annot=True, cmap='Blues', fmt=\"d\")\n",
    "plt.xlabel(\"Predicted Values\")\n",
    "plt.ylabel(\"Actual Values\")\n",
    "plt.show()"
   ]
  },
  {
   "cell_type": "markdown",
   "id": "c74a109c",
   "metadata": {},
   "source": [
    "#### We were able to slightly increase our score on tfidf data using max_features = 17000"
   ]
  },
  {
   "cell_type": "markdown",
   "id": "a23dc2c9",
   "metadata": {},
   "source": [
    "### Summary for non-lemmatized data"
   ]
  },
  {
   "cell_type": "code",
   "execution_count": 36,
   "id": "d55ee324",
   "metadata": {},
   "outputs": [
    {
     "name": "stdout",
     "output_type": "stream",
     "text": [
      "+---------------------+-------------------------------+----------+\n",
      "|        Model        |           Data type           | F1-Score |\n",
      "+---------------------+-------------------------------+----------+\n",
      "| Logistic Regression |          Bag of Words         |  0.9791  |\n",
      "| Logistic Regression |             TF-IDF            |  0.9823  |\n",
      "| Logistic Regression | TF-IDF + Max Features = 50000 |  0.9824  |\n",
      "+---------------------+-------------------------------+----------+\n"
     ]
    }
   ],
   "source": [
    "myTable = PrettyTable([\"Model\",\"Data type\", \"F1-Score\"])\n",
    "myTable.add_row([\"Logistic Regression\", \"Bag of Words\", \"0.9791\"])\n",
    "myTable.add_row([\"Logistic Regression\", \"TF-IDF\", \"0.9823\"])\n",
    "myTable.add_row([\"Logistic Regression\", \"TF-IDF + Max Features = 50000\", \"0.9824\"])\n",
    "\n",
    "print(myTable)\n"
   ]
  },
  {
   "cell_type": "markdown",
   "id": "d9909067",
   "metadata": {},
   "source": [
    "#### 1.3 No Lemmatization, Stop-Word Removal "
   ]
  },
  {
   "cell_type": "code",
   "execution_count": 37,
   "id": "f48e14c2",
   "metadata": {},
   "outputs": [],
   "source": [
    "def return_best_score_max_fea_stopwords(max_fea):\n",
    "    cv = CountVectorizer(max_features=max_fea, stop_words='english')\n",
    "    cv.fit(X_train)\n",
    "    X_train_bow = cv.transform(X_train)\n",
    "    X_test_bow = cv.transform(X_test)\n",
    "\n",
    "    tfidf = TfidfVectorizer(max_features=max_fea, stop_words='english')\n",
    "    tfidf.fit(X_train)\n",
    "    X_train_tfidf = tfidf.transform(X_train)\n",
    "    X_test_tfidf = tfidf.transform(X_test)\n",
    "    \n",
    "\n",
    "    lr = LogisticRegression()\n",
    "    params = {'C':[0.01,0.1,1,5,7,10,20]}\n",
    "    grid = GridSearchCV(lr, params, cv=5, return_train_score=True, scoring='f1')\n",
    "    grid.fit(X_train_bow, y_train)\n",
    "    \n",
    "    best_score_bow = grid.best_score_\n",
    "    \n",
    "    lr = LogisticRegression()\n",
    "    params = {'C':[0.01,0.1,1,5,7,10,20]}\n",
    "    grid = GridSearchCV(lr, params, cv=5, return_train_score=True, scoring='f1')\n",
    "    grid.fit(X_train_tfidf, y_train)\n",
    "    \n",
    "    best_score_tfidf = grid.best_score_\n",
    "    \n",
    "    return best_score_bow, best_score_tfidf"
   ]
  },
  {
   "cell_type": "code",
   "execution_count": 38,
   "id": "7f5e3328",
   "metadata": {},
   "outputs": [
    {
     "name": "stderr",
     "output_type": "stream",
     "text": [
      "100%|██████████████████████████████████████████████████████████████████████████████████| 19/19 [21:32<00:00, 68.04s/it]\n"
     ]
    }
   ],
   "source": [
    "best_scores_bow_fea = []\n",
    "best_scores_tfidf_fea = []\n",
    "max_fea = [2000,5000,6000,7000,8000,8500,9000,12000,14000,14500,15000,16000,17000,20000,25000,30000,50000,60000,75000]\n",
    "\n",
    "for i in tqdm(max_fea):\n",
    "    vals = return_best_score_max_fea_stopwords(i)\n",
    "    best_scores_bow_fea.append(vals[0])\n",
    "    best_scores_tfidf_fea.append(vals[1])  "
   ]
  },
  {
   "cell_type": "code",
   "execution_count": 39,
   "id": "9b55feb3",
   "metadata": {},
   "outputs": [
    {
     "data": {
      "image/png": "[encoded data removed]",
      "text/plain": [
       "<Figure size 432x288 with 1 Axes>"
      ]
     },
     "metadata": {
      "needs_background": "light"
     },
     "output_type": "display_data"
    }
   ],
   "source": [
    "plt.plot(max_fea, best_scores_bow_fea)\n",
    "plt.plot(max_fea, best_scores_tfidf_fea)\n",
    "plt.title(\"Max Features v/s GridSearch F1 Score\")\n",
    "plt.legend([\"BoW Score\", \"TF-IDF Score\"])\n",
    "plt.show()"
   ]
  },
  {
   "cell_type": "code",
   "execution_count": 40,
   "id": "2e604d55",
   "metadata": {},
   "outputs": [
    {
     "data": {
      "text/plain": [
       "[0.974965773461804,\n",
       " 0.9777690507779893,\n",
       " 0.9782480755127961,\n",
       " 0.9786712692551319,\n",
       " 0.978620067692912,\n",
       " 0.978648508942172,\n",
       " 0.9787701032670301,\n",
       " 0.9791410063418213,\n",
       " 0.9793582262311629,\n",
       " 0.979424793375002,\n",
       " 0.979353789613539,\n",
       " 0.9792499981468463,\n",
       " 0.9792214280357541,\n",
       " 0.9795325709876053,\n",
       " 0.9792456570640722,\n",
       " 0.9795000507385838,\n",
       " 0.9794641750260572,\n",
       " 0.9793936367161681,\n",
       " 0.9793588595207494]"
      ]
     },
     "execution_count": 40,
     "metadata": {},
     "output_type": "execute_result"
    }
   ],
   "source": [
    "best_scores_tfidf_fea"
   ]
  },
  {
   "cell_type": "code",
   "execution_count": 41,
   "id": "0d4180cb",
   "metadata": {},
   "outputs": [],
   "source": [
    "tfidf = TfidfVectorizer(max_features=50000, stop_words='english')\n",
    "tfidf.fit(X_train)\n",
    "X_train_tfidf = tfidf.transform(X_train)\n",
    "X_test_tfidf = tfidf.transform(X_test)"
   ]
  },
  {
   "cell_type": "code",
   "execution_count": 42,
   "id": "e7cda889",
   "metadata": {},
   "outputs": [
    {
     "data": {
      "text/plain": [
       "GridSearchCV(cv=4, estimator=LogisticRegression(), n_jobs=-1,\n",
       "             param_grid={'C': [1, 5, 7, 10, 20, 50, 100, 200, 300]},\n",
       "             return_train_score=True, scoring='f1')"
      ]
     },
     "execution_count": 42,
     "metadata": {},
     "output_type": "execute_result"
    }
   ],
   "source": [
    "## Hyperparam Tuning with TFIDF + Stop Word Removal + 50000 Max Features\n",
    "\n",
    "from sklearn.linear_model import LogisticRegression\n",
    "\n",
    "lr = LogisticRegression()\n",
    "params = {'C':[1,5,7,10,20,50,100,200,300]}\n",
    "grid = GridSearchCV(lr, params, cv=4, return_train_score=True, scoring='f1', n_jobs=-1)\n",
    "grid.fit(X_train_tfidf, y_train)\n"
   ]
  },
  {
   "cell_type": "code",
   "execution_count": 43,
   "id": "e860e07b",
   "metadata": {},
   "outputs": [
    {
     "data": {
      "image/png": "[encoded data removed]",
      "text/plain": [
       "<Figure size 432x288 with 1 Axes>"
      ]
     },
     "metadata": {
      "needs_background": "light"
     },
     "output_type": "display_data"
    }
   ],
   "source": [
    "plt.plot(params['C'], grid.cv_results_['mean_test_score'])\n",
    "plt.plot(params['C'], grid.cv_results_['mean_train_score'])\n",
    "plt.title(\"Hyperparam tuning for LR+TFIDF\")\n",
    "plt.legend([\"Test Score\", \"Train Score\"])\n",
    "plt.show()"
   ]
  },
  {
   "cell_type": "code",
   "execution_count": 44,
   "id": "abe7042f",
   "metadata": {},
   "outputs": [],
   "source": [
    "LR_TFIDF = LogisticRegression(C=20)\n",
    "LR_TFIDF.fit(X_train_tfidf, y_train)\n",
    "preds = LR_TFIDF.predict(X_test_tfidf)"
   ]
  },
  {
   "cell_type": "code",
   "execution_count": 45,
   "id": "6dccf780",
   "metadata": {},
   "outputs": [
    {
     "name": "stdout",
     "output_type": "stream",
     "text": [
      "F1-Score:  0.9793459552495697\n",
      "Accuracy:  0.9772995980137148\n",
      "ROC AUC Score:  0.9777166393168665\n"
     ]
    }
   ],
   "source": [
    "print(\"F1-Score: \",f1_score(preds,y_test))\n",
    "print(\"Accuracy: \",accuracy_score(preds,y_test))\n",
    "print(\"ROC AUC Score: \",roc_auc_score(preds,y_test))"
   ]
  },
  {
   "cell_type": "code",
   "execution_count": 46,
   "id": "db0411e3",
   "metadata": {},
   "outputs": [
    {
     "data": {
      "image/png": "[encoded data removed]",
      "text/plain": [
       "<Figure size 432x288 with 2 Axes>"
      ]
     },
     "metadata": {
      "needs_background": "light"
     },
     "output_type": "display_data"
    }
   ],
   "source": [
    "sns.heatmap(confusion_matrix(y_test,preds), annot=True, cmap='Blues', fmt=\"d\")\n",
    "plt.xlabel(\"Predicted Values\")\n",
    "plt.ylabel(\"Actual Values\")\n",
    "plt.show()"
   ]
  },
  {
   "cell_type": "markdown",
   "id": "a446bef7",
   "metadata": {},
   "source": [
    "#### 1.4 Only Lemmatization, No Stop-Word Removal "
   ]
  },
  {
   "cell_type": "code",
   "execution_count": 22,
   "id": "7bc612d1",
   "metadata": {},
   "outputs": [],
   "source": [
    "from nltk.stem import WordNetLemmatizer\n",
    "  \n",
    "lemmatizer = WordNetLemmatizer()"
   ]
  },
  {
   "cell_type": "code",
   "execution_count": null,
   "id": "98cdc141",
   "metadata": {},
   "outputs": [],
   "source": [
    "def lemmatize_func(text):\n",
    "    newText = \"\"\n",
    "    for word in text.split():\n",
    "        newWord = lemmatizer.lemmatize(word, pos =\"v\")\n",
    "        if word == newWord:\n",
    "            newWord = lemmatizer.lemmatize(word, pos =\"n\")\n",
    "        if word == newWord:\n",
    "            newWord = lemmatizer.lemmatize(word, pos =\"a\")\n",
    "        if word == newWord:\n",
    "            newWord = lemmatizer.lemmatize(word, pos =\"r\")\n",
    "        newText+= newWord + \" \"\n",
    "    newText = newText.strip()\n",
    "    return newText\n",
    "    "
   ]
  },
  {
   "cell_type": "code",
   "execution_count": null,
   "id": "2fb80fb0",
   "metadata": {},
   "outputs": [],
   "source": [
    "lemmatize_func(df_final['processed_text'][0])"
   ]
  },
  {
   "cell_type": "code",
   "execution_count": null,
   "id": "d97c4f52",
   "metadata": {},
   "outputs": [],
   "source": [
    "df_final['processed_text'] = [lemmatize_func(x) for x in df_final['processed_text']]\n",
    "    "
   ]
  },
  {
   "cell_type": "code",
   "execution_count": null,
   "id": "f94696fc",
   "metadata": {},
   "outputs": [],
   "source": [
    "df_final.to_csv(\"lemmatized.csv\")"
   ]
  },
  {
   "cell_type": "code",
   "execution_count": 47,
   "id": "bd316934",
   "metadata": {},
   "outputs": [],
   "source": [
    "df_final = pd.read_csv(\"lemmatized.csv\")\n"
   ]
  },
  {
   "cell_type": "code",
   "execution_count": 48,
   "id": "f90de874",
   "metadata": {},
   "outputs": [],
   "source": [
    "X = df_final['processed_text']\n",
    "y = df_final['label']\n",
    "\n",
    "X_train, X_test, y_train, y_test = train_test_split(X, y, test_size=0.33, random_state=42, stratify=y)"
   ]
  },
  {
   "cell_type": "code",
   "execution_count": 49,
   "id": "1c4b762f",
   "metadata": {},
   "outputs": [
    {
     "name": "stderr",
     "output_type": "stream",
     "text": [
      "100%|██████████████████████████████████████████████████████████████████████████████████| 19/19 [26:35<00:00, 83.97s/it]\n"
     ]
    }
   ],
   "source": [
    "best_scores_bow_fea = []\n",
    "best_scores_tfidf_fea = []\n",
    "max_fea = [2000,5000,6000,7000,8000,8500,9000,12000,14000,14500,15000,16000,17000,20000,25000,30000,50000,60000,75000]\n",
    "\n",
    "for i in tqdm(max_fea):\n",
    "    vals = return_best_score_max_fea(i)\n",
    "    best_scores_bow_fea.append(vals[0])\n",
    "    best_scores_tfidf_fea.append(vals[1])                          "
   ]
  },
  {
   "cell_type": "code",
   "execution_count": 50,
   "id": "a9029e28",
   "metadata": {},
   "outputs": [
    {
     "name": "stdout",
     "output_type": "stream",
     "text": [
      "For max_features =  2000 , BoW Score =  0.9768733951933412  and TF-IDF Score =  0.9790719012945852\n",
      "For max_features =  5000 , BoW Score =  0.9789951895698064  and TF-IDF Score =  0.9813357590461951\n",
      "For max_features =  6000 , BoW Score =  0.9793159891615847  and TF-IDF Score =  0.9815855486669959\n",
      "For max_features =  7000 , BoW Score =  0.9793525304954184  and TF-IDF Score =  0.9813622719615468\n",
      "For max_features =  8000 , BoW Score =  0.9794577318792669  and TF-IDF Score =  0.9811893652162995\n",
      "For max_features =  8500 , BoW Score =  0.9795323419652646  and TF-IDF Score =  0.981369472720169\n",
      "For max_features =  9000 , BoW Score =  0.9794224368826849  and TF-IDF Score =  0.9813321675315623\n",
      "For max_features =  12000 , BoW Score =  0.9794914929028709  and TF-IDF Score =  0.9816829298362245\n",
      "For max_features =  14000 , BoW Score =  0.9793180916413983  and TF-IDF Score =  0.9817176886813636\n",
      "For max_features =  14500 , BoW Score =  0.9793889995497341  and TF-IDF Score =  0.9817536462262559\n",
      "For max_features =  15000 , BoW Score =  0.9794250222492341  and TF-IDF Score =  0.9818231748532733\n",
      "For max_features =  16000 , BoW Score =  0.9793197126724511  and TF-IDF Score =  0.9818589196371098\n",
      "For max_features =  17000 , BoW Score =  0.9793154445266345  and TF-IDF Score =  0.9819282023332697\n",
      "For max_features =  20000 , BoW Score =  0.9793517708193036  and TF-IDF Score =  0.98185512828599\n",
      "For max_features =  25000 , BoW Score =  0.9793198017557018  and TF-IDF Score =  0.9817617028162348\n",
      "For max_features =  30000 , BoW Score =  0.9791405753737349  and TF-IDF Score =  0.9817574478574655\n",
      "For max_features =  50000 , BoW Score =  0.9793208462064005  and TF-IDF Score =  0.9817575911492552\n",
      "For max_features =  60000 , BoW Score =  0.9792492682120632  and TF-IDF Score =  0.9817575911492552\n",
      "For max_features =  75000 , BoW Score =  0.9792492682120632  and TF-IDF Score =  0.9817575911492552\n"
     ]
    }
   ],
   "source": [
    "for i in range(len(max_fea)):\n",
    "    print(\"For max_features = \",max_fea[i],\", BoW Score = \",best_scores_bow_fea[i],\" and TF-IDF Score = \",best_scores_tfidf_fea[i])"
   ]
  },
  {
   "cell_type": "code",
   "execution_count": 51,
   "id": "ab150b9c",
   "metadata": {},
   "outputs": [
    {
     "data": {
      "image/png": "[encoded data removed]",
      "text/plain": [
       "<Figure size 432x288 with 1 Axes>"
      ]
     },
     "metadata": {
      "needs_background": "light"
     },
     "output_type": "display_data"
    }
   ],
   "source": [
    "plt.plot(max_fea, best_scores_bow_fea)\n",
    "plt.plot(max_fea, best_scores_tfidf_fea)\n",
    "plt.title(\"Max Features v/s GridSearch F1 Score\")\n",
    "plt.legend([\"BoW Score\", \"TF-IDF Score\"])\n",
    "plt.show()"
   ]
  },
  {
   "cell_type": "code",
   "execution_count": 52,
   "id": "c7e26660",
   "metadata": {},
   "outputs": [],
   "source": [
    "tfidf = TfidfVectorizer(max_features=17000)\n",
    "tfidf.fit(X_train)\n",
    "X_train_tfidf = tfidf.transform(X_train)\n",
    "X_test_tfidf = tfidf.transform(X_test)"
   ]
  },
  {
   "cell_type": "code",
   "execution_count": 53,
   "id": "040fcbe5",
   "metadata": {},
   "outputs": [
    {
     "data": {
      "image/png": "[encoded data removed]",
      "text/plain": [
       "<Figure size 432x288 with 1 Axes>"
      ]
     },
     "metadata": {
      "needs_background": "light"
     },
     "output_type": "display_data"
    }
   ],
   "source": [
    "## Hyperparam Tuning with TFIDF + Lemmatization + 17000 Max Features\n",
    "\n",
    "from sklearn.linear_model import LogisticRegression\n",
    "\n",
    "lr = LogisticRegression()\n",
    "params = {'C':[1,5,7,10,20,50,100,200,300]}\n",
    "grid = GridSearchCV(lr, params, cv=4, return_train_score=True, scoring='f1', n_jobs=-1)\n",
    "grid.fit(X_train_tfidf, y_train)\n",
    "\n",
    "plt.plot(params['C'], grid.cv_results_['mean_test_score'])\n",
    "plt.plot(params['C'], grid.cv_results_['mean_train_score'])\n",
    "plt.title(\"Hyperparam tuning for LR+TFIDF\")\n",
    "plt.legend([\"Test Score\", \"Train Score\"])\n",
    "plt.show()"
   ]
  },
  {
   "cell_type": "code",
   "execution_count": 54,
   "id": "16d03243",
   "metadata": {},
   "outputs": [
    {
     "name": "stdout",
     "output_type": "stream",
     "text": [
      "[0.98306767 0.99431679 0.99595671 0.99726747 0.99911208 0.99986974\n",
      " 1.         1.         1.        ]\n",
      "[0.97524215 0.98082307 0.98127653 0.98148492 0.98175213 0.98212948\n",
      " 0.98216025 0.98190948 0.98208599]\n"
     ]
    }
   ],
   "source": [
    "print(grid.cv_results_['mean_train_score'])\n",
    "print(grid.cv_results_['mean_test_score'])"
   ]
  },
  {
   "cell_type": "code",
   "execution_count": 55,
   "id": "e35b79e0",
   "metadata": {},
   "outputs": [
    {
     "name": "stdout",
     "output_type": "stream",
     "text": [
      "F1-Score:  0.9815333764460732\n",
      "Accuracy:  0.9797430440608497\n",
      "ROC AUC Score:  0.9799605658967064\n"
     ]
    }
   ],
   "source": [
    "LR_TFIDF = LogisticRegression(C=50)\n",
    "LR_TFIDF.fit(X_train_tfidf, y_train)\n",
    "preds = LR_TFIDF.predict(X_test_tfidf)\n",
    "\n",
    "print(\"F1-Score: \",f1_score(preds,y_test))\n",
    "print(\"Accuracy: \",accuracy_score(preds,y_test))\n",
    "print(\"ROC AUC Score: \",roc_auc_score(preds,y_test))"
   ]
  },
  {
   "cell_type": "code",
   "execution_count": 56,
   "id": "d01eda15",
   "metadata": {},
   "outputs": [
    {
     "data": {
      "image/png": "[encoded data removed]",
      "text/plain": [
       "<Figure size 432x288 with 2 Axes>"
      ]
     },
     "metadata": {
      "needs_background": "light"
     },
     "output_type": "display_data"
    }
   ],
   "source": [
    "sns.heatmap(confusion_matrix(y_test,preds), annot=True, cmap='Blues', fmt=\"d\")\n",
    "plt.xlabel(\"Predicted Values\")\n",
    "plt.ylabel(\"Actual Values\")\n",
    "plt.show()"
   ]
  },
  {
   "cell_type": "markdown",
   "id": "0540a303",
   "metadata": {},
   "source": [
    "#### 1.5 Lemmatization and Stop-Word Removal "
   ]
  },
  {
   "cell_type": "code",
   "execution_count": 57,
   "id": "c836133a",
   "metadata": {},
   "outputs": [
    {
     "name": "stderr",
     "output_type": "stream",
     "text": [
      "100%|██████████████████████████████████████████████████████████████████████████████████| 19/19 [20:47<00:00, 65.67s/it]\n"
     ]
    }
   ],
   "source": [
    "best_scores_bow_fea = []\n",
    "best_scores_tfidf_fea = []\n",
    "max_fea = [2000,5000,6000,7000,8000,8500,9000,12000,14000,14500,15000,16000,17000,20000,25000,30000,50000,60000,75000]\n",
    "\n",
    "for i in tqdm(max_fea):\n",
    "    vals = return_best_score_max_fea_stopwords(i)\n",
    "    best_scores_bow_fea.append(vals[0])\n",
    "    best_scores_tfidf_fea.append(vals[1]) "
   ]
  },
  {
   "cell_type": "code",
   "execution_count": 58,
   "id": "6afe9ecb",
   "metadata": {},
   "outputs": [
    {
     "name": "stdout",
     "output_type": "stream",
     "text": [
      "For max_features =  2000 , BoW Score =  0.9710021336411737  and TF-IDF Score =  0.9741824649942469\n",
      "For max_features =  5000 , BoW Score =  0.9730368709140574  and TF-IDF Score =  0.9762997948753002\n",
      "For max_features =  6000 , BoW Score =  0.973016101953567  and TF-IDF Score =  0.9762348342456546\n",
      "For max_features =  7000 , BoW Score =  0.9732228190719013  and TF-IDF Score =  0.9763426064506792\n",
      "For max_features =  8000 , BoW Score =  0.9731196498047296  and TF-IDF Score =  0.9768891963723334\n",
      "For max_features =  8500 , BoW Score =  0.9732226774813135  and TF-IDF Score =  0.9771029075978961\n",
      "For max_features =  9000 , BoW Score =  0.973188262438469  and TF-IDF Score =  0.9768857452143962\n",
      "For max_features =  12000 , BoW Score =  0.9731882747307312  and TF-IDF Score =  0.9771040426494713\n",
      "For max_features =  14000 , BoW Score =  0.9732245986799077  and TF-IDF Score =  0.9770350481230976\n",
      "For max_features =  14500 , BoW Score =  0.9732588365120083  and TF-IDF Score =  0.977210804335078\n",
      "For max_features =  15000 , BoW Score =  0.9733274766982639  and TF-IDF Score =  0.9772092269229693\n",
      "For max_features =  16000 , BoW Score =  0.973291185653073  and TF-IDF Score =  0.9774952955049614\n",
      "For max_features =  17000 , BoW Score =  0.9732570036283696  and TF-IDF Score =  0.9773850718012712\n",
      "For max_features =  20000 , BoW Score =  0.9732206768609302  and TF-IDF Score =  0.9774923767359617\n",
      "For max_features =  25000 , BoW Score =  0.9731862961905071  and TF-IDF Score =  0.9776648227327573\n",
      "For max_features =  30000 , BoW Score =  0.9732588391555099  and TF-IDF Score =  0.9776665321422339\n",
      "For max_features =  50000 , BoW Score =  0.9732933792967546  and TF-IDF Score =  0.9778032457643867\n",
      "For max_features =  60000 , BoW Score =  0.9732933792967546  and TF-IDF Score =  0.9778032457643867\n",
      "For max_features =  75000 , BoW Score =  0.9732933792967546  and TF-IDF Score =  0.9778032457643867\n"
     ]
    }
   ],
   "source": [
    "for i in range(len(max_fea)):\n",
    "    print(\"For max_features = \",max_fea[i],\", BoW Score = \",best_scores_bow_fea[i],\" and TF-IDF Score = \",best_scores_tfidf_fea[i])"
   ]
  },
  {
   "cell_type": "code",
   "execution_count": 59,
   "id": "1d412a29",
   "metadata": {},
   "outputs": [
    {
     "data": {
      "image/png": "[encoded data removed]",
      "text/plain": [
       "<Figure size 432x288 with 1 Axes>"
      ]
     },
     "metadata": {
      "needs_background": "light"
     },
     "output_type": "display_data"
    }
   ],
   "source": [
    "plt.plot(max_fea, best_scores_bow_fea)\n",
    "plt.plot(max_fea, best_scores_tfidf_fea)\n",
    "plt.title(\"Max Features v/s GridSearch F1 Score\")\n",
    "plt.legend([\"BoW Score\", \"TF-IDF Score\"])\n",
    "plt.show()"
   ]
  },
  {
   "cell_type": "code",
   "execution_count": 60,
   "id": "c3e1ab13",
   "metadata": {},
   "outputs": [],
   "source": [
    "tfidf = TfidfVectorizer(max_features=30000)\n",
    "tfidf.fit(X_train)\n",
    "X_train_tfidf = tfidf.transform(X_train)\n",
    "X_test_tfidf = tfidf.transform(X_test)"
   ]
  },
  {
   "cell_type": "code",
   "execution_count": 61,
   "id": "f7808f51",
   "metadata": {},
   "outputs": [
    {
     "data": {
      "image/png": "[encoded data removed]",
      "text/plain": [
       "<Figure size 432x288 with 1 Axes>"
      ]
     },
     "metadata": {
      "needs_background": "light"
     },
     "output_type": "display_data"
    }
   ],
   "source": [
    "## Hyperparam Tuning with TFIDF + Lemmatization + Stop Word Removal + 17000 Max Features\n",
    "\n",
    "from sklearn.linear_model import LogisticRegression\n",
    "\n",
    "lr = LogisticRegression()\n",
    "params = {'C':[1,5,7,10,20,50,100,200,300]}\n",
    "grid = GridSearchCV(lr, params, cv=4, return_train_score=True, scoring='f1', n_jobs=-1)\n",
    "grid.fit(X_train_tfidf, y_train)\n",
    "\n",
    "plt.plot(params['C'], grid.cv_results_['mean_test_score'])\n",
    "plt.plot(params['C'], grid.cv_results_['mean_train_score'])\n",
    "plt.title(\"Hyperparam tuning for LR+TFIDF\")\n",
    "plt.legend([\"Test Score\", \"Train Score\"])\n",
    "plt.show()"
   ]
  },
  {
   "cell_type": "code",
   "execution_count": 62,
   "id": "c6a7a055",
   "metadata": {},
   "outputs": [
    {
     "name": "stdout",
     "output_type": "stream",
     "text": [
      "[0.98306687 0.99443469 0.99608652 0.99748028 0.99917127 0.99988158\n",
      " 1.         1.         1.        ]\n",
      "[0.97520262 0.98078366 0.98130539 0.98148251 0.98193134 0.98230924\n",
      " 0.98226918 0.98223387 0.98208951]\n"
     ]
    }
   ],
   "source": [
    "print(grid.cv_results_['mean_train_score'])\n",
    "print(grid.cv_results_['mean_test_score'])"
   ]
  },
  {
   "cell_type": "code",
   "execution_count": 63,
   "id": "2d7205bf",
   "metadata": {},
   "outputs": [
    {
     "name": "stdout",
     "output_type": "stream",
     "text": [
      "F1-Score:  0.9816091954022987\n",
      "Accuracy:  0.9798218649010798\n",
      "ROC AUC Score:  0.9800645389840835\n"
     ]
    }
   ],
   "source": [
    "LR_TFIDF = LogisticRegression(C=50)\n",
    "LR_TFIDF.fit(X_train_tfidf, y_train)\n",
    "preds = LR_TFIDF.predict(X_test_tfidf)\n",
    "\n",
    "print(\"F1-Score: \",f1_score(preds,y_test))\n",
    "print(\"Accuracy: \",accuracy_score(preds,y_test))\n",
    "print(\"ROC AUC Score: \",roc_auc_score(preds,y_test))"
   ]
  },
  {
   "cell_type": "code",
   "execution_count": 64,
   "id": "da443203",
   "metadata": {},
   "outputs": [
    {
     "data": {
      "image/png": "[encoded data removed]",
      "text/plain": [
       "<Figure size 432x288 with 2 Axes>"
      ]
     },
     "metadata": {
      "needs_background": "light"
     },
     "output_type": "display_data"
    }
   ],
   "source": [
    "sns.heatmap(confusion_matrix(y_test,preds), annot=True, cmap='Blues', fmt=\"d\")\n",
    "plt.xlabel(\"Predicted Values\")\n",
    "plt.ylabel(\"Actual Values\")\n",
    "plt.show()"
   ]
  },
  {
   "cell_type": "code",
   "execution_count": 65,
   "id": "c08727ec",
   "metadata": {},
   "outputs": [
    {
     "name": "stdout",
     "output_type": "stream",
     "text": [
      "+---------------------+-------------------------------------------------------------------+----------+\n",
      "|        Model        |                             Data type                             | F1-Score |\n",
      "+---------------------+-------------------------------------------------------------------+----------+\n",
      "| Logistic Regression |         TF-IDF + Stop Word Removal + Max Features = 50000         |  0.9793  |\n",
      "| Logistic Regression |           TF-IDF + Lemmatization + Max Features = 17000           |  0.9815  |\n",
      "| Logistic Regression | TF-IDF + Stop Word Removal + Lemmatization + Max Features = 30000 |  0.9816  |\n",
      "+---------------------+-------------------------------------------------------------------+----------+\n"
     ]
    }
   ],
   "source": [
    "myTable = PrettyTable([\"Model\",\"Data type\", \"F1-Score\"])\n",
    "myTable.add_row([\"Logistic Regression\", \"TF-IDF + Stop Word Removal + Max Features = 50000\", \"0.9793\"])\n",
    "myTable.add_row([\"Logistic Regression\", \"TF-IDF + Lemmatization + Max Features = 17000\", \"0.9815\"])\n",
    "myTable.add_row([\"Logistic Regression\", \"TF-IDF + Stop Word Removal + Lemmatization + Max Features = 30000\", \"0.9816\"])\n",
    "\n",
    "print(myTable)\n"
   ]
  },
  {
   "cell_type": "markdown",
   "id": "1a7e9366",
   "metadata": {},
   "source": [
    "#### From our base model performance on variour types of data, we can observe that:\n",
    "\n",
    "    - TF-IDF performs better than BoW in all circumstances.\n",
    "    - It is important to optimize the number of max features as this can give us a minor boost in F1-Score.\n",
    "    \n",
    "#### Taking these points into account, we will take our best performing features and use various models on the data to get a better score than the base logistic regression model."
   ]
  },
  {
   "cell_type": "markdown",
   "id": "d2a0cc3a",
   "metadata": {},
   "source": [
    "## 2. Using Various Models on Best Features"
   ]
  },
  {
   "cell_type": "markdown",
   "id": "41cdd0b4",
   "metadata": {},
   "source": [
    "<p>Our best performing feature in the previous section was tf-idf with best max_features value, so we will use that data as features for our models.</p>"
   ]
  },
  {
   "cell_type": "code",
   "execution_count": 4,
   "id": "972749d5",
   "metadata": {},
   "outputs": [],
   "source": [
    "df_final = loadFinalData()\n",
    "\n",
    "X = df_final['processed_text']\n",
    "y = df_final['label']\n",
    "\n",
    "X_train, X_test, y_train, y_test = train_test_split(X, y, test_size=0.33, random_state=42, stratify=y)"
   ]
  },
  {
   "cell_type": "markdown",
   "id": "983ba07a",
   "metadata": {},
   "source": [
    "#### 2.1 Naive Bayes Classifier"
   ]
  },
  {
   "cell_type": "code",
   "execution_count": 67,
   "id": "77d1fec5",
   "metadata": {},
   "outputs": [],
   "source": [
    "def return_best_score_max_fea_nb(max_fea):\n",
    "    tfidf = TfidfVectorizer(max_features=max_fea)\n",
    "    tfidf.fit(X_train)\n",
    "    X_train_tfidf = tfidf.transform(X_train)\n",
    "    X_test_tfidf = tfidf.transform(X_test)\n",
    "\n",
    "    \n",
    "    nb = MultinomialNB(class_prior = [0.5,0.5])\n",
    "    parameters = {'alpha':[0.00001,0.0005, 0.0001,0.005,0.001,0.05,0.01,0.1,0.5,1,5,10,50,100]}\n",
    "    gridsearch = GridSearchCV(nb, parameters, cv = 5, scoring='f1', return_train_score=True, n_jobs=-1)\n",
    "    gridsearch.fit(X_train_tfidf, y_train)\n",
    "    \n",
    "    best_score_tfidf = gridsearch.best_score_\n",
    "    \n",
    "    return best_score_tfidf\n"
   ]
  },
  {
   "cell_type": "code",
   "execution_count": 68,
   "id": "a0c4434c",
   "metadata": {},
   "outputs": [
    {
     "name": "stderr",
     "output_type": "stream",
     "text": [
      "100%|██████████████████████████████████████████████████████████████████████████████████| 21/21 [04:11<00:00, 12.00s/it]\n"
     ]
    }
   ],
   "source": [
    "best_scores_tfidf_fea = []\n",
    "max_fea = [500,1000,2000,5000,6000,7000,8000,8500,9000,12000,14000,14500,15000,16000,17000,20000,25000,30000,50000,60000,75000]\n",
    "\n",
    "for i in tqdm(max_fea):\n",
    "    best_scores_tfidf_fea.append(return_best_score_max_fea_nb(i))                          "
   ]
  },
  {
   "cell_type": "code",
   "execution_count": 69,
   "id": "9ee1bb6d",
   "metadata": {},
   "outputs": [
    {
     "data": {
      "image/png": "[encoded data removed]",
      "text/plain": [
       "<Figure size 432x288 with 1 Axes>"
      ]
     },
     "metadata": {
      "needs_background": "light"
     },
     "output_type": "display_data"
    }
   ],
   "source": [
    "plt.plot(max_fea, best_scores_tfidf_fea)\n",
    "plt.scatter(max_fea, best_scores_tfidf_fea)\n",
    "\n",
    "plt.title(\"Max Features v/s GridSearch F1 Score\")\n",
    "plt.legend([\"TF-IDF Score\"])\n",
    "\n",
    "plt.show()"
   ]
  },
  {
   "cell_type": "code",
   "execution_count": 70,
   "id": "69c48315",
   "metadata": {},
   "outputs": [
    {
     "name": "stdout",
     "output_type": "stream",
     "text": [
      "For max_features =  500  and TF-IDF Score =  0.9367259925116072\n",
      "For max_features =  1000  and TF-IDF Score =  0.9373141406052847\n",
      "For max_features =  2000  and TF-IDF Score =  0.9405754145283053\n",
      "For max_features =  5000  and TF-IDF Score =  0.942456729753484\n",
      "For max_features =  6000  and TF-IDF Score =  0.9430389932407103\n",
      "For max_features =  7000  and TF-IDF Score =  0.9439447998914791\n",
      "For max_features =  8000  and TF-IDF Score =  0.9456627411101011\n",
      "For max_features =  8500  and TF-IDF Score =  0.9457164418788702\n",
      "For max_features =  9000  and TF-IDF Score =  0.9458684608077641\n",
      "For max_features =  12000  and TF-IDF Score =  0.9462589619859617\n",
      "For max_features =  14000  and TF-IDF Score =  0.9457810794634753\n",
      "For max_features =  14500  and TF-IDF Score =  0.9459457308506106\n",
      "For max_features =  15000  and TF-IDF Score =  0.9465138090733456\n",
      "For max_features =  16000  and TF-IDF Score =  0.9465785119402778\n",
      "For max_features =  17000  and TF-IDF Score =  0.9466343651973839\n",
      "For max_features =  20000  and TF-IDF Score =  0.946500401483827\n",
      "For max_features =  25000  and TF-IDF Score =  0.9459847044410095\n",
      "For max_features =  30000  and TF-IDF Score =  0.9451586835912213\n",
      "For max_features =  50000  and TF-IDF Score =  0.9459849290857891\n",
      "For max_features =  60000  and TF-IDF Score =  0.9462761089240403\n",
      "For max_features =  75000  and TF-IDF Score =  0.9463449851301011\n"
     ]
    }
   ],
   "source": [
    "for i in range(len(max_fea)):\n",
    "    print(\"For max_features = \",max_fea[i],\" and TF-IDF Score = \",best_scores_tfidf_fea[i])"
   ]
  },
  {
   "cell_type": "code",
   "execution_count": 71,
   "id": "6f3361df",
   "metadata": {},
   "outputs": [],
   "source": [
    "tfidf = TfidfVectorizer(max_features=17000)\n",
    "tfidf.fit(X_train)\n",
    "X_train_tfidf = tfidf.transform(X_train)\n",
    "X_test_tfidf = tfidf.transform(X_test)"
   ]
  },
  {
   "cell_type": "code",
   "execution_count": 72,
   "id": "7276560c",
   "metadata": {},
   "outputs": [
    {
     "data": {
      "text/plain": [
       "GridSearchCV(cv=5, estimator=MultinomialNB(class_prior=[0.5, 0.5]), n_jobs=-1,\n",
       "             param_grid={'alpha': [1e-05, 0.0005, 0.0001, 0.005, 0.001, 0.05,\n",
       "                                   0.01, 0.1, 0.5, 1, 5, 10, 50, 100]},\n",
       "             return_train_score=True, scoring='f1')"
      ]
     },
     "execution_count": 72,
     "metadata": {},
     "output_type": "execute_result"
    }
   ],
   "source": [
    "from sklearn.naive_bayes import MultinomialNB\n",
    "\n",
    "nb = MultinomialNB(class_prior = [0.5,0.5])\n",
    "\n",
    "parameters = {'alpha':[0.00001,0.0005, 0.0001,0.005,0.001,0.05,0.01,0.1,0.5,1,5,10,50,100]}\n",
    "\n",
    "gridsearch = GridSearchCV(nb, parameters, cv = 5, scoring='f1', return_train_score=True, n_jobs=-1)\n",
    "gridsearch.fit(X_train_tfidf, y_train)"
   ]
  },
  {
   "cell_type": "code",
   "execution_count": 73,
   "id": "792dcd99",
   "metadata": {},
   "outputs": [
    {
     "data": {
      "text/plain": [
       "MultinomialNB(alpha=1e-05, class_prior=[0.5, 0.5])"
      ]
     },
     "execution_count": 73,
     "metadata": {},
     "output_type": "execute_result"
    }
   ],
   "source": [
    "gridsearch.best_estimator_"
   ]
  },
  {
   "cell_type": "code",
   "execution_count": 74,
   "id": "720a4d2b",
   "metadata": {},
   "outputs": [
    {
     "data": {
      "image/png": "[encoded data removed]",
      "text/plain": [
       "<Figure size 432x288 with 1 Axes>"
      ]
     },
     "metadata": {
      "needs_background": "light"
     },
     "output_type": "display_data"
    }
   ],
   "source": [
    "plt.plot(parameters['alpha'], gridsearch.cv_results_['mean_test_score'])\n",
    "plt.plot(parameters['alpha'], gridsearch.cv_results_['mean_train_score'])\n",
    "plt.title(\"Hyperparam tuning for NB+TFIDF\")\n",
    "plt.legend([\"Test Score\", \"Train Score\"])\n",
    "plt.show()"
   ]
  },
  {
   "cell_type": "code",
   "execution_count": 75,
   "id": "41108ad2",
   "metadata": {},
   "outputs": [
    {
     "name": "stdout",
     "output_type": "stream",
     "text": [
      "F1-Score:  0.9433333333333334\n",
      "Accuracy:  0.9383621029400173\n",
      "ROC AUC Score:  0.9375178469142367\n"
     ]
    }
   ],
   "source": [
    "NB_TFIDF = MultinomialNB(class_prior = [0.5,0.5], alpha=0.00001)\n",
    "NB_TFIDF.fit(X_train_tfidf, y_train)\n",
    "preds = NB_TFIDF.predict(X_test_tfidf)\n",
    "\n",
    "print(\"F1-Score: \",f1_score(preds,y_test))\n",
    "print(\"Accuracy: \",accuracy_score(preds,y_test))\n",
    "print(\"ROC AUC Score: \",roc_auc_score(preds,y_test))"
   ]
  },
  {
   "cell_type": "code",
   "execution_count": 76,
   "id": "ee083bac",
   "metadata": {},
   "outputs": [
    {
     "data": {
      "image/png": "[encoded data removed]",
      "text/plain": [
       "<Figure size 432x288 with 2 Axes>"
      ]
     },
     "metadata": {
      "needs_background": "light"
     },
     "output_type": "display_data"
    }
   ],
   "source": [
    "sns.heatmap(confusion_matrix(y_test,preds), annot=True, cmap='Blues', fmt=\"d\")\n",
    "plt.xlabel(\"Predicted Values\")\n",
    "plt.ylabel(\"Actual Values\")\n",
    "plt.show()"
   ]
  },
  {
   "cell_type": "markdown",
   "id": "b72972a9",
   "metadata": {},
   "source": [
    "#### 2.2 SVM Classifier"
   ]
  },
  {
   "cell_type": "code",
   "execution_count": 77,
   "id": "cb2a675c",
   "metadata": {},
   "outputs": [],
   "source": [
    "def return_best_score_max_fea_svm(max_fea):\n",
    "    tfidf = TfidfVectorizer(max_features=max_fea)\n",
    "    tfidf.fit(X_train)\n",
    "    X_train_tfidf = tfidf.transform(X_train)\n",
    "    X_test_tfidf = tfidf.transform(X_test)\n",
    "\n",
    "    \n",
    "    svm = LinearSVC()\n",
    "    params = {'C':[0.01,0.1,1,5,7]}\n",
    "    grid = GridSearchCV(svm, params, cv=3, return_train_score=True, scoring='f1')\n",
    "    grid.fit(X_train_tfidf, y_train)\n",
    "    \n",
    "    best_score_tfidf = grid.best_score_\n",
    "    \n",
    "    return best_score_tfidf\n"
   ]
  },
  {
   "cell_type": "code",
   "execution_count": 78,
   "id": "59c77831",
   "metadata": {},
   "outputs": [
    {
     "name": "stderr",
     "output_type": "stream",
     "text": [
      "100%|██████████████████████████████████████████████████████████████████████████████████| 21/21 [04:28<00:00, 12.76s/it]\n"
     ]
    }
   ],
   "source": [
    "best_scores_tfidf_fea = []\n",
    "max_fea = [500,1000,2000,5000,6000,7000,8000,8500,9000,12000,14000,14500,15000,16000,17000,20000,25000,30000,50000,60000,75000]\n",
    "\n",
    "for i in tqdm(max_fea):\n",
    "    best_scores_tfidf_fea.append(return_best_score_max_fea_svm(i))                          "
   ]
  },
  {
   "cell_type": "code",
   "execution_count": 79,
   "id": "31afcf13",
   "metadata": {},
   "outputs": [
    {
     "data": {
      "image/png": "[encoded data removed]",
      "text/plain": [
       "<Figure size 432x288 with 1 Axes>"
      ]
     },
     "metadata": {
      "needs_background": "light"
     },
     "output_type": "display_data"
    }
   ],
   "source": [
    "plt.plot(max_fea, best_scores_tfidf_fea)\n",
    "plt.scatter(max_fea, best_scores_tfidf_fea)\n",
    "\n",
    "plt.title(\"Max Features v/s GridSearch F1 Score\")\n",
    "plt.legend([\"TF-IDF Score\"])\n",
    "\n",
    "plt.show()"
   ]
  },
  {
   "cell_type": "code",
   "execution_count": 80,
   "id": "c2d3bd05",
   "metadata": {},
   "outputs": [
    {
     "name": "stdout",
     "output_type": "stream",
     "text": [
      "For max_features =  500  and TF-IDF Score =  0.9724028048935698\n",
      "For max_features =  1000  and TF-IDF Score =  0.9755756704548425\n",
      "For max_features =  2000  and TF-IDF Score =  0.978184815371869\n",
      "For max_features =  5000  and TF-IDF Score =  0.9817639329234474\n",
      "For max_features =  6000  and TF-IDF Score =  0.9817285181145903\n",
      "For max_features =  7000  and TF-IDF Score =  0.9818009945985716\n",
      "For max_features =  8000  and TF-IDF Score =  0.9818733578297335\n",
      "For max_features =  8500  and TF-IDF Score =  0.9819800427600218\n",
      "For max_features =  9000  and TF-IDF Score =  0.9819096212843892\n",
      "For max_features =  12000  and TF-IDF Score =  0.9825059316943254\n",
      "For max_features =  14000  and TF-IDF Score =  0.9824703801601409\n",
      "For max_features =  14500  and TF-IDF Score =  0.9823648109938157\n",
      "For max_features =  15000  and TF-IDF Score =  0.982363307290476\n",
      "For max_features =  16000  and TF-IDF Score =  0.9822593973069038\n",
      "For max_features =  17000  and TF-IDF Score =  0.9824377999706252\n",
      "For max_features =  20000  and TF-IDF Score =  0.9824004152676782\n",
      "For max_features =  25000  and TF-IDF Score =  0.9825044482335916\n",
      "For max_features =  30000  and TF-IDF Score =  0.9823976221850511\n",
      "For max_features =  50000  and TF-IDF Score =  0.9825032159877481\n",
      "For max_features =  60000  and TF-IDF Score =  0.9824325560032747\n",
      "For max_features =  75000  and TF-IDF Score =  0.9824672635298716\n"
     ]
    }
   ],
   "source": [
    "for i in range(len(max_fea)):\n",
    "    print(\"For max_features = \",max_fea[i],\" and TF-IDF Score = \",best_scores_tfidf_fea[i])"
   ]
  },
  {
   "cell_type": "code",
   "execution_count": 81,
   "id": "c9c27107",
   "metadata": {},
   "outputs": [],
   "source": [
    "tfidf = TfidfVectorizer(max_features=12000)\n",
    "tfidf.fit(X_train)\n",
    "X_train_tfidf = tfidf.transform(X_train)\n",
    "X_test_tfidf = tfidf.transform(X_test)"
   ]
  },
  {
   "cell_type": "code",
   "execution_count": 82,
   "id": "32884f0c",
   "metadata": {},
   "outputs": [
    {
     "name": "stdout",
     "output_type": "stream",
     "text": [
      "Fitting 5 folds for each of 10 candidates, totalling 50 fits\n"
     ]
    },
    {
     "data": {
      "text/plain": [
       "GridSearchCV(cv=5, estimator=LinearSVC(),\n",
       "             param_grid={'C': [0.001, 0.01, 0.1, 1, 5, 7, 10, 20, 50, 100]},\n",
       "             return_train_score=True, scoring='f1', verbose=1)"
      ]
     },
     "execution_count": 82,
     "metadata": {},
     "output_type": "execute_result"
    }
   ],
   "source": [
    "svm = LinearSVC()\n",
    "params = {'C':[0.001,0.01,0.1,1,5,7,10,20,50,100]}\n",
    "grid = GridSearchCV(svm, params, cv=5, return_train_score=True, scoring='f1', verbose = 1)\n",
    "grid.fit(X_train_tfidf, y_train)"
   ]
  },
  {
   "cell_type": "code",
   "execution_count": 83,
   "id": "d7db659f",
   "metadata": {},
   "outputs": [
    {
     "data": {
      "text/plain": [
       "LinearSVC(C=1)"
      ]
     },
     "execution_count": 83,
     "metadata": {},
     "output_type": "execute_result"
    }
   ],
   "source": [
    "grid.best_estimator_"
   ]
  },
  {
   "cell_type": "code",
   "execution_count": null,
   "id": "4137e881",
   "metadata": {},
   "outputs": [],
   "source": []
  },
  {
   "cell_type": "code",
   "execution_count": 84,
   "id": "696d5851",
   "metadata": {},
   "outputs": [
    {
     "data": {
      "image/png": "[encoded data removed]",
      "text/plain": [
       "<Figure size 432x288 with 1 Axes>"
      ]
     },
     "metadata": {
      "needs_background": "light"
     },
     "output_type": "display_data"
    }
   ],
   "source": [
    "plt.plot(params['C'], grid.cv_results_['mean_test_score'])\n",
    "plt.plot(params['C'], grid.cv_results_['mean_train_score'])\n",
    "plt.title(\"Hyperparam tuning for SVM+TFIDF\")\n",
    "plt.legend([\"Test Score\", \"Train Score\"])\n",
    "plt.show()"
   ]
  },
  {
   "cell_type": "code",
   "execution_count": 85,
   "id": "040f3d73",
   "metadata": {},
   "outputs": [
    {
     "name": "stdout",
     "output_type": "stream",
     "text": [
      "F1-Score:  0.9816065526656129\n",
      "Accuracy:  0.9798218649010798\n",
      "ROC AUC Score:  0.9800482891259252\n"
     ]
    }
   ],
   "source": [
    "SVM_TFIDF = LinearSVC(C=1)\n",
    "SVM_TFIDF.fit(X_train_tfidf, y_train)\n",
    "preds = SVM_TFIDF.predict(X_test_tfidf)\n",
    "\n",
    "print(\"F1-Score: \",f1_score(preds,y_test))\n",
    "print(\"Accuracy: \",accuracy_score(preds,y_test))\n",
    "print(\"ROC AUC Score: \",roc_auc_score(preds,y_test))"
   ]
  },
  {
   "cell_type": "code",
   "execution_count": 86,
   "id": "cd1840b6",
   "metadata": {},
   "outputs": [
    {
     "data": {
      "image/png": "[encoded data removed]",
      "text/plain": [
       "<Figure size 432x288 with 2 Axes>"
      ]
     },
     "metadata": {
      "needs_background": "light"
     },
     "output_type": "display_data"
    }
   ],
   "source": [
    "sns.heatmap(confusion_matrix(y_test,preds), annot=True, cmap='Blues', fmt=\"d\")\n",
    "plt.xlabel(\"Predicted Values\")\n",
    "plt.ylabel(\"Actual Values\")\n",
    "plt.show()"
   ]
  },
  {
   "cell_type": "markdown",
   "id": "b7b62e9f",
   "metadata": {},
   "source": [
    "#### 2.3 DecisionTree Classifier"
   ]
  },
  {
   "cell_type": "code",
   "execution_count": 87,
   "id": "a00880bc",
   "metadata": {},
   "outputs": [],
   "source": [
    "def return_best_score_max_fea_dt(max_fea):\n",
    "    tfidf = TfidfVectorizer(max_features=max_fea)\n",
    "    tfidf.fit(X_train)\n",
    "    X_train_tfidf = tfidf.transform(X_train)\n",
    "    X_test_tfidf = tfidf.transform(X_test)\n",
    "\n",
    "    \n",
    "    dt = DecisionTreeClassifier()\n",
    "    params = {'max_depth':[10,50,100,200]}\n",
    "    grid = GridSearchCV(dt, params, cv=3, return_train_score=True, scoring='f1')\n",
    "    grid.fit(X_train_tfidf, y_train)\n",
    "    \n",
    "    best_score_tfidf = grid.best_score_\n",
    "    \n",
    "    return best_score_tfidf\n"
   ]
  },
  {
   "cell_type": "code",
   "execution_count": 88,
   "id": "cda194fb",
   "metadata": {},
   "outputs": [
    {
     "name": "stderr",
     "output_type": "stream",
     "text": [
      "100%|█████████████████████████████████████████████████████████████████████████████████| 21/21 [41:44<00:00, 119.26s/it]\n"
     ]
    }
   ],
   "source": [
    "best_scores_tfidf_fea = []\n",
    "max_fea = [500,1000,2000,5000,6000,7000,8000,8500,9000,12000,14000,14500,15000,16000,17000,20000,25000,30000,50000,60000,75000]\n",
    "\n",
    "for i in tqdm(max_fea):\n",
    "    best_scores_tfidf_fea.append(return_best_score_max_fea_dt(i))                          "
   ]
  },
  {
   "cell_type": "code",
   "execution_count": 89,
   "id": "1b5c3a6e",
   "metadata": {},
   "outputs": [
    {
     "data": {
      "image/png": "[encoded data removed]",
      "text/plain": [
       "<Figure size 432x288 with 1 Axes>"
      ]
     },
     "metadata": {
      "needs_background": "light"
     },
     "output_type": "display_data"
    }
   ],
   "source": [
    "plt.plot(max_fea, best_scores_tfidf_fea)\n",
    "plt.scatter(max_fea, best_scores_tfidf_fea)\n",
    "\n",
    "plt.title(\"Max Features v/s GridSearch F1 Score\")\n",
    "plt.legend([\"TF-IDF Score\"])\n",
    "\n",
    "plt.show()"
   ]
  },
  {
   "cell_type": "code",
   "execution_count": 5,
   "id": "4e5ea3ce",
   "metadata": {},
   "outputs": [],
   "source": [
    "tfidf = TfidfVectorizer(max_features=60000)\n",
    "tfidf.fit(X_train)\n",
    "X_train_tfidf = tfidf.transform(X_train)\n",
    "X_test_tfidf = tfidf.transform(X_test)"
   ]
  },
  {
   "cell_type": "code",
   "execution_count": 13,
   "id": "536b8fb4",
   "metadata": {},
   "outputs": [
    {
     "name": "stdout",
     "output_type": "stream",
     "text": [
      "Fitting 3 folds for each of 3200 candidates, totalling 9600 fits\n"
     ]
    },
    {
     "data": {
      "text/plain": [
       "GridSearchCV(cv=3, estimator=DecisionTreeClassifier(), n_jobs=-1,\n",
       "             param_grid={'max_depth': [10, 20, 500, 400],\n",
       "                         'max_features': ['auto', 'log2', 'sqrt', None],\n",
       "                         'max_leaf_nodes': [None, 10, 20, 30, 40, 50, 60, 70,\n",
       "                                            80, 90],\n",
       "                         'min_samples_leaf': [1, 2, 3, 4, 5, 6, 7, 8, 9, 10],\n",
       "                         'splitter': ['best', 'random']},\n",
       "             scoring='f1', verbose=2)"
      ]
     },
     "execution_count": 13,
     "metadata": {},
     "output_type": "execute_result"
    }
   ],
   "source": [
    "dt = DecisionTreeClassifier()\n",
    "params={\"splitter\":[\"best\",\"random\"],\n",
    "            \"max_depth\" : [10,20,500,400],\n",
    "           \"min_samples_leaf\":[1,2,3,4,5,6,7,8,9,10],\n",
    "           \"max_features\":[\"auto\",\"log2\",\"sqrt\",None],\n",
    "           \"max_leaf_nodes\":[None,10,20,30,40,50,60,70,80,90] }\n",
    "grid = GridSearchCV(dt, params, cv=3, scoring='f1', n_jobs=-1, verbose=2)\n",
    "grid.fit(X_train_tfidf, y_train)"
   ]
  },
  {
   "cell_type": "code",
   "execution_count": 14,
   "id": "bed0207b",
   "metadata": {},
   "outputs": [
    {
     "data": {
      "text/plain": [
       "DecisionTreeClassifier(max_depth=400, max_leaf_nodes=90, min_samples_leaf=3)"
      ]
     },
     "execution_count": 14,
     "metadata": {},
     "output_type": "execute_result"
    }
   ],
   "source": [
    "grid.best_estimator_"
   ]
  },
  {
   "cell_type": "code",
   "execution_count": 94,
   "id": "7a0c8cae",
   "metadata": {
    "scrolled": true
   },
   "outputs": [
    {
     "data": {
      "text/plain": [
       "[{'max_depth': 5, 'min_samples_split': 2},\n",
       " {'max_depth': 5, 'min_samples_split': 3},\n",
       " {'max_depth': 5, 'min_samples_split': 5},\n",
       " {'max_depth': 10, 'min_samples_split': 2},\n",
       " {'max_depth': 10, 'min_samples_split': 3},\n",
       " {'max_depth': 10, 'min_samples_split': 5},\n",
       " {'max_depth': 50, 'min_samples_split': 2},\n",
       " {'max_depth': 50, 'min_samples_split': 3},\n",
       " {'max_depth': 50, 'min_samples_split': 5},\n",
       " {'max_depth': 100, 'min_samples_split': 2},\n",
       " {'max_depth': 100, 'min_samples_split': 3},\n",
       " {'max_depth': 100, 'min_samples_split': 5}]"
      ]
     },
     "execution_count": 94,
     "metadata": {},
     "output_type": "execute_result"
    }
   ],
   "source": [
    "grid.cv_results_['params']"
   ]
  },
  {
   "cell_type": "code",
   "execution_count": 16,
   "id": "52f41363",
   "metadata": {},
   "outputs": [
    {
     "data": {
      "text/plain": [
       "array([0.74370868, 0.727499  , 0.747614  , ..., 0.93624487, 0.93748063,\n",
       "       0.93515932])"
      ]
     },
     "execution_count": 16,
     "metadata": {},
     "output_type": "execute_result"
    }
   ],
   "source": [
    "grid.cv_results_['mean_test_score']"
   ]
  },
  {
   "cell_type": "code",
   "execution_count": 17,
   "id": "409e595b",
   "metadata": {},
   "outputs": [
    {
     "name": "stdout",
     "output_type": "stream",
     "text": [
      "F1-Score:  0.9447826398338467\n",
      "Accuracy:  0.9392291321825491\n",
      "ROC AUC Score:  0.9393625964786778\n"
     ]
    }
   ],
   "source": [
    "DT_TFIDF = DecisionTreeClassifier(max_depth=400, max_leaf_nodes=90, min_samples_leaf=3)\n",
    "DT_TFIDF.fit(X_train_tfidf, y_train)\n",
    "preds = DT_TFIDF.predict(X_test_tfidf)\n",
    "\n",
    "print(\"F1-Score: \",f1_score(preds,y_test))\n",
    "print(\"Accuracy: \",accuracy_score(preds,y_test))\n",
    "print(\"ROC AUC Score: \",roc_auc_score(preds,y_test))"
   ]
  },
  {
   "cell_type": "code",
   "execution_count": 18,
   "id": "b2c38ad6",
   "metadata": {},
   "outputs": [
    {
     "data": {
      "image/png": "[encoded data removed]",
      "text/plain": [
       "<Figure size 432x288 with 2 Axes>"
      ]
     },
     "metadata": {
      "needs_background": "light"
     },
     "output_type": "display_data"
    }
   ],
   "source": [
    "sns.heatmap(confusion_matrix(y_test,preds), annot=True, cmap='Blues', fmt=\"d\")\n",
    "plt.xlabel(\"Predicted Values\")\n",
    "plt.ylabel(\"Actual Values\")\n",
    "plt.show()"
   ]
  },
  {
   "cell_type": "markdown",
   "id": "c689aca1",
   "metadata": {},
   "source": [
    "### Conclusion\n",
    "\n",
    "Linear Models are performing better than non-linear models, with Logistic Regression model being the best out of all."
   ]
  },
  {
   "cell_type": "code",
   "execution_count": 20,
   "id": "ba53e2ad",
   "metadata": {},
   "outputs": [
    {
     "name": "stdout",
     "output_type": "stream",
     "text": [
      "+---------------+-------------------------------+----------+\n",
      "|     Model     |           Data type           | F1-Score |\n",
      "+---------------+-------------------------------+----------+\n",
      "|  Naive Bayes  | TF-IDF + Max Features = 17000 |  0.9433  |\n",
      "|      SVM      |  TF-IDF Max Features = 12000  |  0.9816  |\n",
      "| Decision Tree |  TF-IDF Max Features = 60000  |  0.9448  |\n",
      "+---------------+-------------------------------+----------+\n"
     ]
    }
   ],
   "source": [
    "myTable = PrettyTable([\"Model\",\"Data type\", \"F1-Score\"])\n",
    "myTable.add_row([\"Naive Bayes\", \"TF-IDF + Max Features = 17000\", \"0.9433\"])\n",
    "myTable.add_row([\"SVM\", \"TF-IDF Max Features = 12000\", \"0.9816\"])\n",
    "myTable.add_row([\"Decision Tree\", \"TF-IDF Max Features = 60000\", \"0.9448\"])\n",
    "\n",
    "print(myTable)\n"
   ]
  },
  {
   "cell_type": "markdown",
   "id": "8cac760d",
   "metadata": {},
   "source": [
    "### Using TF-IDF Weighted GloVe Values"
   ]
  },
  {
   "cell_type": "code",
   "execution_count": 6,
   "id": "237e2d46",
   "metadata": {},
   "outputs": [],
   "source": [
    "df_final_lemmatized = pd.read_csv(\"lemmatized.csv\")\n",
    "df_final = loadFinalData()\n",
    "\n",
    "X = df_final['processed_text']\n",
    "y = df_final['label']\n",
    "\n",
    "\n",
    "X_train, X_test, y_train, y_test = train_test_split(X, y, test_size=0.33, random_state=42, stratify=y)\n",
    "X_l = df_final_lemmatized['processed_text']\n",
    "y_l = df_final_lemmatized['label']\n",
    "X_train_l, X_test_l, y_train_l, y_test_l = train_test_split(X_l, y_l, test_size=0.33, random_state=42, stratify=y)"
   ]
  },
  {
   "cell_type": "code",
   "execution_count": 7,
   "id": "f864cfe5",
   "metadata": {},
   "outputs": [],
   "source": [
    "#On Non Lemmatized Data\n",
    "tfidf = TfidfVectorizer(max_features=50000)\n",
    "tfidf.fit(X_train)\n",
    "X_train_tfidf = tfidf.transform(X_train)\n",
    "X_test_tfidf = tfidf.transform(X_test)\n",
    "\n",
    "#On Lemmatized Data\n",
    "tfidf_lem = TfidfVectorizer(max_features=17000)\n",
    "tfidf_lem.fit(X_train)\n",
    "X_train_tfidf_lem = tfidf_lem.transform(X_train)\n",
    "X_test_tfidf_lem = tfidf_lem.transform(X_test)"
   ]
  },
  {
   "cell_type": "code",
   "execution_count": 8,
   "id": "0c4023da",
   "metadata": {},
   "outputs": [],
   "source": [
    "#idf dictionary for non lemmatized data\n",
    "\n",
    "dictionary = dict(zip(tfidf.get_feature_names(), list(tfidf.idf_)))\n",
    "tfidf_words = set(tfidf.get_feature_names())\n",
    "\n",
    "#idf dictionary for lemmatized data\n",
    "dictionary_lem = dict(zip(tfidf_lem.get_feature_names(), list(tfidf_lem.idf_)))\n",
    "tfidf_words_lem = set(tfidf_lem.get_feature_names())"
   ]
  },
  {
   "cell_type": "code",
   "execution_count": 9,
   "id": "9f76502f",
   "metadata": {},
   "outputs": [],
   "source": [
    "f =  open(\"glove.6B.50d.txt\", encoding=\"utf8\") \n",
    "vector_glove = {}\n",
    "for i in f:\n",
    "    x = i.split(' ')\n",
    "    word = x[0]\n",
    "    values = np.asarray(x[1:]).astype('float32')\n",
    "    vector_glove[word] = values"
   ]
  },
  {
   "cell_type": "code",
   "execution_count": 10,
   "id": "c0e3b5d1",
   "metadata": {},
   "outputs": [
    {
     "data": {
      "text/plain": [
       "array([ 0.15272 ,  0.36181 , -0.22168 ,  0.066051,  0.13029 ,  0.37075 ,\n",
       "       -0.75874 , -0.44722 ,  0.22563 ,  0.10208 ,  0.054225,  0.13494 ,\n",
       "       -0.43052 , -0.2134  ,  0.56139 , -0.21445 ,  0.077974,  0.10137 ,\n",
       "       -0.51306 , -0.40295 ,  0.40639 ,  0.23309 ,  0.20696 , -0.12668 ,\n",
       "       -0.50634 , -1.7131  ,  0.077183, -0.39138 , -0.10594 , -0.23743 ,\n",
       "        3.9552  ,  0.66596 , -0.61841 , -0.3268  ,  0.37021 ,  0.25764 ,\n",
       "        0.38977 ,  0.27121 ,  0.043024, -0.34322 ,  0.020339,  0.2142  ,\n",
       "        0.044097,  0.14003 , -0.20079 ,  0.074794, -0.36076 ,  0.43382 ,\n",
       "       -0.084617,  0.1214  ], dtype=float32)"
      ]
     },
     "execution_count": 10,
     "metadata": {},
     "output_type": "execute_result"
    }
   ],
   "source": [
    "vector_glove['for']"
   ]
  },
  {
   "cell_type": "code",
   "execution_count": 92,
   "id": "81162928",
   "metadata": {},
   "outputs": [
    {
     "name": "stderr",
     "output_type": "stream",
     "text": [
      "100%|███████████████████████████████████████████████████████████████████████████| 25758/25758 [03:25<00:00, 125.45it/s]\n"
     ]
    }
   ],
   "source": [
    "#Applying tfidf-weighted GloVe vectorization on train data - Non Lemmatized\n",
    "tfidf_w2v_vectors_tr = []; \n",
    "for article in tqdm(X_train):\n",
    "    vector = np.zeros(50) \n",
    "    tf_idf_weight = 0; \n",
    "    for word in article.split(): \n",
    "        if (word in vector_glove) and (word in tfidf_words):\n",
    "            vec = vector_glove[word]\n",
    "            tf_idf = dictionary[word]*(article.count(word)/len(article.split()))\n",
    "            vector += (vec * tf_idf)\n",
    "            tf_idf_weight += tf_idf\n",
    "        if tf_idf_weight != 0:\n",
    "            vector /= tf_idf_weight\n",
    "    tfidf_w2v_vectors_tr.append(vector)\n",
    "    "
   ]
  },
  {
   "cell_type": "code",
   "execution_count": 114,
   "id": "18bc5df3",
   "metadata": {},
   "outputs": [
    {
     "data": {
      "text/plain": [
       "25758"
      ]
     },
     "execution_count": 114,
     "metadata": {},
     "output_type": "execute_result"
    }
   ],
   "source": [
    "len(tfidf_w2v_vectors_tr)"
   ]
  },
  {
   "cell_type": "code",
   "execution_count": 14,
   "id": "cf743acd",
   "metadata": {},
   "outputs": [
    {
     "name": "stderr",
     "output_type": "stream",
     "text": [
      "100%|███████████████████████████████████████████████████████████████████████████| 25758/25758 [03:11<00:00, 134.82it/s]\n"
     ]
    }
   ],
   "source": [
    "#Applying tfidf-weighted GloVe vectorization on train data - Lemmatized\n",
    "tfidf_w2v_vectors_tr_l = []; \n",
    "for article in tqdm(X_train_l):\n",
    "    vector = np.zeros(50) \n",
    "    tf_idf_weight = 0; \n",
    "    for word in article.split(): \n",
    "        if (word in vector_glove) and (word in tfidf_words_lem):\n",
    "            vec = vector_glove[word]\n",
    "            tf_idf = dictionary_lem[word]*(article.count(word)/len(article.split()))\n",
    "            vector += (vec * tf_idf)\n",
    "            tf_idf_weight += tf_idf\n",
    "        if tf_idf_weight != 0:\n",
    "            vector /= tf_idf_weight\n",
    "    tfidf_w2v_vectors_tr_l.append(vector)\n",
    "    "
   ]
  },
  {
   "cell_type": "code",
   "execution_count": 93,
   "id": "d71b8fbe",
   "metadata": {},
   "outputs": [
    {
     "name": "stderr",
     "output_type": "stream",
     "text": [
      "100%|███████████████████████████████████████████████████████████████████████████| 12687/12687 [01:43<00:00, 122.08it/s]\n"
     ]
    }
   ],
   "source": [
    "#Applying tfidf-weighted GloVe vectorization on test data - Non Lemmatized\n",
    "tfidf_w2v_vectors_te = []; \n",
    "for article in tqdm(X_test):\n",
    "    vector = np.zeros(50) \n",
    "    tf_idf_weight = 0; \n",
    "    for word in article.split(): \n",
    "        if (word in vector_glove) and (word in tfidf_words):\n",
    "            vec = vector_glove[word]\n",
    "            tf_idf = dictionary[word]*(article.count(word)/len(article.split()))\n",
    "            vector += (vec * tf_idf)\n",
    "            tf_idf_weight += tf_idf\n",
    "        if tf_idf_weight != 0:\n",
    "            vector /= tf_idf_weight\n",
    "    tfidf_w2v_vectors_te.append(vector)\n",
    "    "
   ]
  },
  {
   "cell_type": "code",
   "execution_count": 15,
   "id": "48fe31d5",
   "metadata": {},
   "outputs": [
    {
     "name": "stderr",
     "output_type": "stream",
     "text": [
      "100%|███████████████████████████████████████████████████████████████████████████| 12687/12687 [01:33<00:00, 136.20it/s]\n"
     ]
    }
   ],
   "source": [
    "#Applying tfidf-weighted GloVe vectorization on test data - Lemmatized\n",
    "tfidf_w2v_vectors_te_l = []; \n",
    "for article in tqdm(X_test_l):\n",
    "    vector = np.zeros(50) \n",
    "    tf_idf_weight = 0; \n",
    "    for word in article.split(): \n",
    "        if (word in vector_glove) and (word in tfidf_words_lem):\n",
    "            vec = vector_glove[word]\n",
    "            tf_idf = dictionary_lem[word]*(article.count(word)/len(article.split()))\n",
    "            vector += (vec * tf_idf)\n",
    "            tf_idf_weight += tf_idf\n",
    "        if tf_idf_weight != 0:\n",
    "            vector /= tf_idf_weight\n",
    "    tfidf_w2v_vectors_te_l.append(vector)\n",
    "    "
   ]
  },
  {
   "cell_type": "code",
   "execution_count": 16,
   "id": "42526388",
   "metadata": {},
   "outputs": [],
   "source": [
    "np.savetxt(\"w2v_test_nonlem.csv\", \n",
    "           tfidf_w2v_vectors_te,\n",
    "           delimiter =\", \", \n",
    "           fmt ='% s')\n",
    "np.savetxt(\"w2v_train_nonlem.csv\", \n",
    "           tfidf_w2v_vectors_tr,\n",
    "           delimiter =\", \", \n",
    "           fmt ='% s')\n",
    "np.savetxt(\"w2v_test_lem.csv\", \n",
    "           tfidf_w2v_vectors_te_l,\n",
    "           delimiter =\", \", \n",
    "           fmt ='% s')\n",
    "np.savetxt(\"w2v_train_lem.csv\", \n",
    "           tfidf_w2v_vectors_tr_l,\n",
    "           delimiter =\", \", \n",
    "           fmt ='% s')"
   ]
  },
  {
   "cell_type": "code",
   "execution_count": 32,
   "id": "4ae9233c",
   "metadata": {},
   "outputs": [
    {
     "data": {
      "image/png": "[encoded data removed]",
      "text/plain": [
       "<Figure size 432x288 with 1 Axes>"
      ]
     },
     "metadata": {
      "needs_background": "light"
     },
     "output_type": "display_data"
    }
   ],
   "source": [
    "#Hyperparameter tuning for LR with tf-idf weighted GloVe\n",
    "lr = LogisticRegression()\n",
    "params = {'C':[1,5,7,10,20,50,100,200,300]}\n",
    "grid_lr = GridSearchCV(lr, params, cv=4, return_train_score=True, scoring='f1', n_jobs=-1)\n",
    "grid_lr.fit(tfidf_w2v_vectors_tr, y_train)\n",
    "\n",
    "plt.plot(params['C'], grid_lr.cv_results_['mean_test_score'])\n",
    "plt.plot(params['C'], grid_lr.cv_results_['mean_train_score'])\n",
    "plt.title(\"Hyperparam tuning for LR+GLOVE\")\n",
    "plt.legend([\"Test Score\", \"Train Score\"])\n",
    "plt.show()"
   ]
  },
  {
   "cell_type": "code",
   "execution_count": 33,
   "id": "2375a815",
   "metadata": {},
   "outputs": [
    {
     "data": {
      "text/plain": [
       "0.8023849258774932"
      ]
     },
     "execution_count": 33,
     "metadata": {},
     "output_type": "execute_result"
    }
   ],
   "source": [
    "grid_lr.best_score_"
   ]
  },
  {
   "cell_type": "code",
   "execution_count": 18,
   "id": "7d05b0d2",
   "metadata": {},
   "outputs": [
    {
     "name": "stdout",
     "output_type": "stream",
     "text": [
      "Fitting 3 folds for each of 3200 candidates, totalling 9600 fits\n"
     ]
    },
    {
     "data": {
      "text/plain": [
       "GridSearchCV(cv=3, estimator=DecisionTreeClassifier(), n_jobs=-1,\n",
       "             param_grid={'max_depth': [10, 20, 500, 400],\n",
       "                         'max_features': ['auto', 'log2', 'sqrt', None],\n",
       "                         'max_leaf_nodes': [None, 10, 20, 30, 40, 50, 60, 70,\n",
       "                                            80, 90],\n",
       "                         'min_samples_leaf': [1, 2, 3, 4, 5, 6, 7, 8, 9, 10],\n",
       "                         'splitter': ['best', 'random']},\n",
       "             scoring='f1', verbose=2)"
      ]
     },
     "execution_count": 18,
     "metadata": {},
     "output_type": "execute_result"
    }
   ],
   "source": [
    "#Hyperparameter tuning for DT with tf-idf weighted GloVe\n",
    "dt = DecisionTreeClassifier()\n",
    "params={\"splitter\":[\"best\",\"random\"],\n",
    "            \"max_depth\" : [10,20,500,400],\n",
    "           \"min_samples_leaf\":[1,2,3,4,5,6,7,8,9,10],\n",
    "           \"max_features\":[\"auto\",\"log2\",\"sqrt\",None],\n",
    "           \"max_leaf_nodes\":[None,10,20,30,40,50,60,70,80,90] }\n",
    "grid = GridSearchCV(dt, params, cv=3, scoring='f1', n_jobs=-1, verbose=2)\n",
    "grid.fit(tfidf_w2v_vectors_tr, y_train)\n"
   ]
  },
  {
   "cell_type": "code",
   "execution_count": 19,
   "id": "12094734",
   "metadata": {},
   "outputs": [
    {
     "data": {
      "text/plain": [
       "{'max_depth': 10,\n",
       " 'max_features': None,\n",
       " 'max_leaf_nodes': 90,\n",
       " 'min_samples_leaf': 7,\n",
       " 'splitter': 'best'}"
      ]
     },
     "execution_count": 19,
     "metadata": {},
     "output_type": "execute_result"
    }
   ],
   "source": [
    "grid.best_params_"
   ]
  },
  {
   "cell_type": "code",
   "execution_count": 21,
   "id": "f6a90775",
   "metadata": {},
   "outputs": [
    {
     "data": {
      "text/plain": [
       "0.8764321738405426"
      ]
     },
     "execution_count": 21,
     "metadata": {},
     "output_type": "execute_result"
    }
   ],
   "source": [
    "grid.best_score_"
   ]
  },
  {
   "cell_type": "code",
   "execution_count": 22,
   "id": "562a812b",
   "metadata": {},
   "outputs": [
    {
     "name": "stdout",
     "output_type": "stream",
     "text": [
      "F1-Score:  0.8804652754019843\n",
      "Accuracy:  0.862299992117916\n",
      "ROC AUC Score:  0.8689564552965202\n"
     ]
    }
   ],
   "source": [
    "#Predicting with DT for tf-idf weighted GloVe\n",
    "\n",
    "DT_GLOVE = DecisionTreeClassifier(max_depth=10, max_leaf_nodes=90, min_samples_leaf=7, max_features=None, splitter= 'best')\n",
    "DT_GLOVE.fit(tfidf_w2v_vectors_tr, y_train)\n",
    "preds = DT_GLOVE.predict(tfidf_w2v_vectors_te)\n",
    "\n",
    "print(\"F1-Score: \",f1_score(preds,y_test))\n",
    "print(\"Accuracy: \",accuracy_score(preds,y_test))\n",
    "print(\"ROC AUC Score: \",roc_auc_score(preds,y_test))"
   ]
  },
  {
   "cell_type": "code",
   "execution_count": 23,
   "id": "86eb9333",
   "metadata": {},
   "outputs": [
    {
     "data": {
      "image/png": "[encoded data removed]",
      "text/plain": [
       "<Figure size 432x288 with 2 Axes>"
      ]
     },
     "metadata": {
      "needs_background": "light"
     },
     "output_type": "display_data"
    }
   ],
   "source": [
    "sns.heatmap(confusion_matrix(y_test,preds), annot=True, cmap='Blues', fmt=\"d\")\n",
    "plt.xlabel(\"Predicted Values\")\n",
    "plt.ylabel(\"Actual Values\")\n",
    "plt.show()"
   ]
  },
  {
   "cell_type": "code",
   "execution_count": 24,
   "id": "09151e76",
   "metadata": {},
   "outputs": [
    {
     "name": "stdout",
     "output_type": "stream",
     "text": [
      "Fitting 3 folds for each of 1000 candidates, totalling 3000 fits\n"
     ]
    },
    {
     "data": {
      "text/plain": [
       "GridSearchCV(cv=3, estimator=DecisionTreeClassifier(), n_jobs=-1,\n",
       "             param_grid={'max_depth': [8, 10, 20, 50, 100],\n",
       "                         'max_features': ['auto', 'log2', 'sqrt', None],\n",
       "                         'max_leaf_nodes': [70, 80, 90, 100, 120],\n",
       "                         'min_samples_leaf': [4, 5, 6, 7, 8],\n",
       "                         'splitter': ['best', 'random']},\n",
       "             scoring='f1', verbose=2)"
      ]
     },
     "execution_count": 24,
     "metadata": {},
     "output_type": "execute_result"
    }
   ],
   "source": [
    "#Hyperparameter tuning for DT with tf-idf weighted GloVe - Lemmatized\n",
    "\n",
    "dt = DecisionTreeClassifier()\n",
    "params={\"splitter\":[\"best\",\"random\"],\n",
    "            \"max_depth\" : [8,10,20,50,100],\n",
    "           \"min_samples_leaf\":[4,5,6,7,8],\n",
    "           \"max_features\":[\"auto\",\"log2\",\"sqrt\",None],\n",
    "           \"max_leaf_nodes\":[70,80,90,100,120] }\n",
    "grid = GridSearchCV(dt, params, cv=3, scoring='f1', n_jobs=-1, verbose=2)\n",
    "grid.fit(tfidf_w2v_vectors_tr_l, y_train)\n"
   ]
  },
  {
   "cell_type": "code",
   "execution_count": 26,
   "id": "861652cb",
   "metadata": {},
   "outputs": [
    {
     "data": {
      "text/plain": [
       "{'max_depth': 10,\n",
       " 'max_features': None,\n",
       " 'max_leaf_nodes': 100,\n",
       " 'min_samples_leaf': 4,\n",
       " 'splitter': 'best'}"
      ]
     },
     "execution_count": 26,
     "metadata": {},
     "output_type": "execute_result"
    }
   ],
   "source": [
    "grid.best_params_"
   ]
  },
  {
   "cell_type": "code",
   "execution_count": 25,
   "id": "d202efb4",
   "metadata": {},
   "outputs": [
    {
     "data": {
      "text/plain": [
       "0.8813362443733922"
      ]
     },
     "execution_count": 25,
     "metadata": {},
     "output_type": "execute_result"
    }
   ],
   "source": [
    "grid.best_score_\n"
   ]
  },
  {
   "cell_type": "code",
   "execution_count": 28,
   "id": "4a066b41",
   "metadata": {},
   "outputs": [
    {
     "name": "stdout",
     "output_type": "stream",
     "text": [
      "F1-Score:  0.8796383753879369\n",
      "Accuracy:  0.8593836210294001\n",
      "ROC AUC Score:  0.8700701325527441\n"
     ]
    }
   ],
   "source": [
    "#Predicting with DT for tf-idf weighted GloVe - Lemmatized\n",
    "\n",
    "DT_GLOVE_LEM = DecisionTreeClassifier(max_depth=10, max_leaf_nodes=100, min_samples_leaf=4, max_features=None, splitter= 'best')\n",
    "DT_GLOVE_LEM.fit(tfidf_w2v_vectors_tr_l, y_train)\n",
    "preds = DT_GLOVE_LEM.predict(tfidf_w2v_vectors_te_l)\n",
    "\n",
    "print(\"F1-Score: \",f1_score(preds,y_test))\n",
    "print(\"Accuracy: \",accuracy_score(preds,y_test))\n",
    "print(\"ROC AUC Score: \",roc_auc_score(preds,y_test))"
   ]
  },
  {
   "cell_type": "code",
   "execution_count": 29,
   "id": "6e382b43",
   "metadata": {},
   "outputs": [
    {
     "data": {
      "image/png": "[encoded data removed]",
      "text/plain": [
       "<Figure size 432x288 with 2 Axes>"
      ]
     },
     "metadata": {
      "needs_background": "light"
     },
     "output_type": "display_data"
    }
   ],
   "source": [
    "sns.heatmap(confusion_matrix(y_test,preds), annot=True, cmap='Blues', fmt=\"d\")\n",
    "plt.xlabel(\"Predicted Values\")\n",
    "plt.ylabel(\"Actual Values\")\n",
    "plt.show()"
   ]
  },
  {
   "cell_type": "code",
   "execution_count": 30,
   "id": "6abdeff8",
   "metadata": {},
   "outputs": [],
   "source": [
    "from sklearn.ensemble import RandomForestClassifier\n"
   ]
  },
  {
   "cell_type": "code",
   "execution_count": 31,
   "id": "ea5d8473",
   "metadata": {},
   "outputs": [
    {
     "name": "stdout",
     "output_type": "stream",
     "text": [
      "Fitting 3 folds for each of 80 candidates, totalling 240 fits\n"
     ]
    },
    {
     "data": {
      "text/plain": [
       "GridSearchCV(cv=3, estimator=RandomForestClassifier(), n_jobs=-1,\n",
       "             param_grid={'max_depth': [None, 20, 50, 100, 200],\n",
       "                         'max_features': ['auto', 'log2', 'sqrt', None],\n",
       "                         'n_estimators': [50, 100, 150, 200]},\n",
       "             scoring='f1', verbose=2)"
      ]
     },
     "execution_count": 31,
     "metadata": {},
     "output_type": "execute_result"
    }
   ],
   "source": [
    "#Hyperparameter tuning for RF with tf-idf weighted GloVe\n",
    "\n",
    "rf = RandomForestClassifier()\n",
    "params={\"n_estimators\":[50,100,150,200],\n",
    "            \"max_depth\" : [None,20,50,100,200],\n",
    "           \"max_features\":[\"auto\",\"log2\",\"sqrt\",None] }\n",
    "grid = GridSearchCV(rf, params, cv=3, scoring='f1', n_jobs=-1, verbose=2)\n",
    "grid.fit(tfidf_w2v_vectors_tr, y_train)\n"
   ]
  },
  {
   "cell_type": "code",
   "execution_count": 34,
   "id": "259d53fc",
   "metadata": {},
   "outputs": [
    {
     "data": {
      "text/plain": [
       "{'max_depth': 200, 'max_features': 'auto', 'n_estimators': 200}"
      ]
     },
     "execution_count": 34,
     "metadata": {},
     "output_type": "execute_result"
    }
   ],
   "source": [
    "grid.best_params_"
   ]
  },
  {
   "cell_type": "code",
   "execution_count": 35,
   "id": "fd57aa3e",
   "metadata": {},
   "outputs": [
    {
     "data": {
      "text/plain": [
       "0.9105128496869951"
      ]
     },
     "execution_count": 35,
     "metadata": {},
     "output_type": "execute_result"
    }
   ],
   "source": [
    "grid.best_score_"
   ]
  },
  {
   "cell_type": "code",
   "execution_count": 38,
   "id": "b909f158",
   "metadata": {},
   "outputs": [
    {
     "name": "stdout",
     "output_type": "stream",
     "text": [
      "F1-Score:  0.912287903667214\n",
      "Accuracy:  0.8989516828249389\n",
      "ROC AUC Score:  0.9073394198774853\n"
     ]
    }
   ],
   "source": [
    "#Predicting with RF for tf-idf weighted GloVe\n",
    "\n",
    "RF_GLOVE = RandomForestClassifier(max_depth= 200, max_features= 'auto', n_estimators= 200)\n",
    "RF_GLOVE.fit(tfidf_w2v_vectors_tr, y_train)\n",
    "preds = RF_GLOVE.predict(tfidf_w2v_vectors_te)\n",
    "\n",
    "print(\"F1-Score: \",f1_score(preds,y_test))\n",
    "print(\"Accuracy: \",accuracy_score(preds,y_test))\n",
    "print(\"ROC AUC Score: \",roc_auc_score(preds,y_test))"
   ]
  },
  {
   "cell_type": "code",
   "execution_count": 39,
   "id": "bc0a02e4",
   "metadata": {},
   "outputs": [
    {
     "data": {
      "image/png": "[encoded data removed]",
      "text/plain": [
       "<Figure size 432x288 with 2 Axes>"
      ]
     },
     "metadata": {
      "needs_background": "light"
     },
     "output_type": "display_data"
    }
   ],
   "source": [
    "sns.heatmap(confusion_matrix(y_test,preds), annot=True, cmap='Blues', fmt=\"d\")\n",
    "plt.xlabel(\"Predicted Values\")\n",
    "plt.ylabel(\"Actual Values\")\n",
    "plt.show()"
   ]
  },
  {
   "cell_type": "code",
   "execution_count": 40,
   "id": "4a5bdee4",
   "metadata": {},
   "outputs": [],
   "source": [
    "import lightgbm as lgb\n"
   ]
  },
  {
   "cell_type": "code",
   "execution_count": 44,
   "id": "fef1fe6e",
   "metadata": {},
   "outputs": [
    {
     "name": "stdout",
     "output_type": "stream",
     "text": [
      "Fitting 3 folds for each of 25 candidates, totalling 75 fits\n"
     ]
    },
    {
     "data": {
      "text/plain": [
       "GridSearchCV(cv=3, estimator=LGBMClassifier(), n_jobs=-1,\n",
       "             param_grid={'max_depth': [None, 1, 2, 3, 10],\n",
       "                         'max_features': ['auto'],\n",
       "                         'n_estimators': [50, 100, 200, 300, 400]},\n",
       "             return_train_score=True, scoring='f1', verbose=2)"
      ]
     },
     "execution_count": 44,
     "metadata": {},
     "output_type": "execute_result"
    }
   ],
   "source": [
    "#Hyperparameter tuning for GBDT with tf-idf weighted GloVe\n",
    "\n",
    "parameters = {\n",
    "     \"n_estimators\"     : [50,100,200,300,400],\n",
    "     \"max_depth\"        : [None, 1,2,3,10],\n",
    "    \"max_features\":[\"auto\"]\n",
    "}\n",
    "\n",
    "clf = lgb.LGBMClassifier()\n",
    "\n",
    "lgb.LGBMClassifier\n",
    "\n",
    "grid = GridSearchCV(clf, parameters, n_jobs=-1, scoring=\"f1\", cv=3, verbose=2, return_train_score=True)\n",
    "\n",
    "grid.fit(tfidf_w2v_vectors_tr, y_train)\n"
   ]
  },
  {
   "cell_type": "code",
   "execution_count": 45,
   "id": "f029a336",
   "metadata": {},
   "outputs": [
    {
     "data": {
      "text/plain": [
       "{'max_depth': 10, 'max_features': 'auto', 'n_estimators': 400}"
      ]
     },
     "execution_count": 45,
     "metadata": {},
     "output_type": "execute_result"
    }
   ],
   "source": [
    "grid.best_params_"
   ]
  },
  {
   "cell_type": "code",
   "execution_count": 46,
   "id": "5599b98d",
   "metadata": {},
   "outputs": [
    {
     "data": {
      "text/plain": [
       "0.905889214134212"
      ]
     },
     "execution_count": 46,
     "metadata": {},
     "output_type": "execute_result"
    }
   ],
   "source": [
    "grid.best_score_"
   ]
  },
  {
   "cell_type": "code",
   "execution_count": 94,
   "id": "ac37a8fb",
   "metadata": {},
   "outputs": [
    {
     "name": "stdout",
     "output_type": "stream",
     "text": [
      "[LightGBM] [Warning] Unknown parameter: max_features\n",
      "F1-Score:  0.9083090581217921\n",
      "Accuracy:  0.8957988492157326\n",
      "ROC AUC Score:  0.900433741779759\n"
     ]
    }
   ],
   "source": [
    "#Predicting with GBDT for tf-idf weighted GloVe\n",
    "\n",
    "lgb_GLOVE = lgb.LGBMClassifier(max_depth= 10, max_features= 'auto', n_estimators= 400)\n",
    "lgb_GLOVE.fit(tfidf_w2v_vectors_tr, y_train)\n",
    "preds = lgb_GLOVE.predict(tfidf_w2v_vectors_te)\n",
    "\n",
    "print(\"F1-Score: \",f1_score(preds,y_test))\n",
    "print(\"Accuracy: \",accuracy_score(preds,y_test))\n",
    "print(\"ROC AUC Score: \",roc_auc_score(preds,y_test))"
   ]
  },
  {
   "cell_type": "code",
   "execution_count": 95,
   "id": "a90e7e36",
   "metadata": {},
   "outputs": [
    {
     "data": {
      "image/png": "[encoded data removed]",
      "text/plain": [
       "<Figure size 432x288 with 2 Axes>"
      ]
     },
     "metadata": {
      "needs_background": "light"
     },
     "output_type": "display_data"
    }
   ],
   "source": [
    "sns.heatmap(confusion_matrix(y_test,preds), annot=True, cmap='Blues', fmt=\"d\")\n",
    "plt.xlabel(\"Predicted Values\")\n",
    "plt.ylabel(\"Actual Values\")\n",
    "plt.show()"
   ]
  },
  {
   "cell_type": "markdown",
   "id": "656905fb",
   "metadata": {},
   "source": [
    "### Conclusion\n",
    "\n",
    "Using TF-IDF weighted gloVe vectors does not give a better result than TF-IDF."
   ]
  },
  {
   "cell_type": "code",
   "execution_count": 51,
   "id": "f4b2e870",
   "metadata": {},
   "outputs": [
    {
     "name": "stdout",
     "output_type": "stream",
     "text": [
      "+---------------------+---------------------------------------+----------+\n",
      "|        Model        |               Data type               | F1-Score |\n",
      "+---------------------+---------------------------------------+----------+\n",
      "| Logistic Regression |         TF-IDF weighted GloVe         |  0.8024  |\n",
      "|    Decision Tree    |         TF-IDF weighted GloVe         |  0.8805  |\n",
      "|    Decision Tree    | TF-IDF weighted GloVe + Lemmatization |  0.8796  |\n",
      "|    Random Forest    |         TF-IDF weighted GloVe         |  0.9123  |\n",
      "| Gradient Boosted DT |         TF-IDF weighted GloVe         |  0.9059  |\n",
      "+---------------------+---------------------------------------+----------+\n"
     ]
    }
   ],
   "source": [
    "myTable = PrettyTable([\"Model\",\"Data type\", \"F1-Score\"])\n",
    "myTable.add_row([\"Logistic Regression\", \"TF-IDF weighted GloVe\", \"0.8024\"])\n",
    "myTable.add_row([\"Decision Tree\", \"TF-IDF weighted GloVe\", \"0.8805\"])\n",
    "myTable.add_row([\"Decision Tree\", \"TF-IDF weighted GloVe + Lemmatization\", \"0.8796\"])\n",
    "myTable.add_row([\"Random Forest\", \"TF-IDF weighted GloVe\", \"0.9123\"])\n",
    "myTable.add_row([\"Gradient Boosted DT\", \"TF-IDF weighted GloVe\", \"0.9059\"])\n",
    "\n",
    "print(myTable)\n"
   ]
  },
  {
   "cell_type": "markdown",
   "id": "76d1b599",
   "metadata": {},
   "source": [
    "### Testing the Top Models with Real Life News Articles - 5 Fake and 5 Real"
   ]
  },
  {
   "cell_type": "markdown",
   "id": "6c14ce83",
   "metadata": {},
   "source": [
    "Just to ensure if our model will perform well in real world and how trustworthy our scores are, we will run a few different models on 10 news articles collected from the internet - 5 real and 5 fake "
   ]
  },
  {
   "cell_type": "code",
   "execution_count": 71,
   "id": "8347a625",
   "metadata": {},
   "outputs": [],
   "source": [
    "df_onion = pd.read_csv('Latest Onion Articles.csv')"
   ]
  },
  {
   "cell_type": "code",
   "execution_count": 74,
   "id": "5fe4f690",
   "metadata": {},
   "outputs": [
    {
     "data": {
      "text/html": [
       "<div>\n",
       "<style scoped>\n",
       "    .dataframe tbody tr th:only-of-type {\n",
       "        vertical-align: middle;\n",
       "    }\n",
       "\n",
       "    .dataframe tbody tr th {\n",
       "        vertical-align: top;\n",
       "    }\n",
       "\n",
       "    .dataframe thead th {\n",
       "        text-align: right;\n",
       "    }\n",
       "</style>\n",
       "<table border=\"1\" class=\"dataframe\">\n",
       "  <thead>\n",
       "    <tr style=\"text-align: right;\">\n",
       "      <th></th>\n",
       "      <th>text</th>\n",
       "    </tr>\n",
       "  </thead>\n",
       "  <tbody>\n",
       "    <tr>\n",
       "      <th>0</th>\n",
       "      <td>HIGHLAND PARK, IL—In the hours following a vio...</td>\n",
       "    </tr>\n",
       "    <tr>\n",
       "      <th>1</th>\n",
       "      <td>LOCK HAVEN, PA—Ashley Daniels is as close as y...</td>\n",
       "    </tr>\n",
       "    <tr>\n",
       "      <th>2</th>\n",
       "      <td>If you think all corporate CEOs are heartless ...</td>\n",
       "    </tr>\n",
       "    <tr>\n",
       "      <th>3</th>\n",
       "      <td>PALM BEACH, FL—In a series of posts shared to ...</td>\n",
       "    </tr>\n",
       "    <tr>\n",
       "      <th>4</th>\n",
       "      <td>WASHINGTON—Outraged by reports of the family-f...</td>\n",
       "    </tr>\n",
       "    <tr>\n",
       "      <th>5</th>\n",
       "      <td>Last week calls from Texas began flooding into...</td>\n",
       "    </tr>\n",
       "    <tr>\n",
       "      <th>6</th>\n",
       "      <td>London (CNN Business)If you're an American vis...</td>\n",
       "    </tr>\n",
       "    <tr>\n",
       "      <th>7</th>\n",
       "      <td>The Eiffel Tower is riddled with rust and in n...</td>\n",
       "    </tr>\n",
       "    <tr>\n",
       "      <th>8</th>\n",
       "      <td>(CNN)Two police officers were shot during a Ju...</td>\n",
       "    </tr>\n",
       "    <tr>\n",
       "      <th>9</th>\n",
       "      <td>New York (CNN Business)Subway is launching a n...</td>\n",
       "    </tr>\n",
       "  </tbody>\n",
       "</table>\n",
       "</div>"
      ],
      "text/plain": [
       "                                                text\n",
       "0  HIGHLAND PARK, IL—In the hours following a vio...\n",
       "1  LOCK HAVEN, PA—Ashley Daniels is as close as y...\n",
       "2  If you think all corporate CEOs are heartless ...\n",
       "3  PALM BEACH, FL—In a series of posts shared to ...\n",
       "4  WASHINGTON—Outraged by reports of the family-f...\n",
       "5  Last week calls from Texas began flooding into...\n",
       "6  London (CNN Business)If you're an American vis...\n",
       "7  The Eiffel Tower is riddled with rust and in n...\n",
       "8  (CNN)Two police officers were shot during a Ju...\n",
       "9  New York (CNN Business)Subway is launching a n..."
      ]
     },
     "execution_count": 74,
     "metadata": {},
     "output_type": "execute_result"
    }
   ],
   "source": [
    "df_onion"
   ]
  },
  {
   "cell_type": "code",
   "execution_count": 76,
   "id": "236f8547",
   "metadata": {},
   "outputs": [
    {
     "name": "stderr",
     "output_type": "stream",
     "text": [
      "100%|██████████████████████████████████████████████████████████████████████████████████| 10/10 [00:01<00:00,  9.73it/s]\n"
     ]
    }
   ],
   "source": [
    "onion_processed = []\n",
    "for i in tqdm(range(10)):\n",
    "    text = preprocess_text(df_onion.text[i])\n",
    "    onion_processed.append(text)"
   ]
  },
  {
   "cell_type": "code",
   "execution_count": 77,
   "id": "a0de599b",
   "metadata": {},
   "outputs": [],
   "source": [
    "df_onion['processed_text'] = onion_processed"
   ]
  },
  {
   "cell_type": "markdown",
   "id": "a39c9786",
   "metadata": {},
   "source": [
    "#### Predictions using LR + TF-IDF"
   ]
  },
  {
   "cell_type": "code",
   "execution_count": 78,
   "id": "db935588",
   "metadata": {},
   "outputs": [],
   "source": [
    "tfidf = TfidfVectorizer(max_features=50000)\n",
    "tfidf.fit(df_final['processed_text'].values)\n",
    "X_train_tfidf = tfidf.transform(df_final['processed_text'].values)\n",
    "onion_tfidf = tfidf.transform(df_onion['processed_text'].values)"
   ]
  },
  {
   "cell_type": "code",
   "execution_count": 80,
   "id": "c4dcb0e7",
   "metadata": {},
   "outputs": [],
   "source": [
    "LR_TFIDF = LogisticRegression(C=50)\n",
    "LR_TFIDF.fit(X_train_tfidf, df_final['label'].values)\n",
    "preds = LR_TFIDF.predict(onion_tfidf)"
   ]
  },
  {
   "cell_type": "code",
   "execution_count": 81,
   "id": "6053f6bb",
   "metadata": {},
   "outputs": [
    {
     "data": {
      "text/plain": [
       "array([0, 0, 0, 0, 0, 1, 1, 1, 0, 1], dtype=int64)"
      ]
     },
     "execution_count": 81,
     "metadata": {},
     "output_type": "execute_result"
    }
   ],
   "source": [
    "preds"
   ]
  },
  {
   "cell_type": "markdown",
   "id": "3d98b0cc",
   "metadata": {},
   "source": [
    "#### Predictions using DT + TF-IDF Weighted GloVe"
   ]
  },
  {
   "cell_type": "code",
   "execution_count": 82,
   "id": "6a3139ec",
   "metadata": {},
   "outputs": [
    {
     "name": "stderr",
     "output_type": "stream",
     "text": [
      "100%|███████████████████████████████████████████████████████████████████████████| 38445/38445 [05:15<00:00, 121.96it/s]\n"
     ]
    }
   ],
   "source": [
    "#Applying tfidf-weighted GloVe vectorization on WHOLE train data\n",
    "\n",
    "dictionary = dict(zip(tfidf.get_feature_names(), list(tfidf.idf_)))\n",
    "tfidf_words = set(tfidf.get_feature_names())\n",
    "\n",
    "\n",
    "tfidf_w2v_vectors_tr = []; \n",
    "for article in tqdm(df_final['processed_text'].values):\n",
    "    vector = np.zeros(50) \n",
    "    tf_idf_weight = 0; \n",
    "    for word in article.split(): \n",
    "        if (word in vector_glove) and (word in tfidf_words):\n",
    "            vec = vector_glove[word]\n",
    "            tf_idf = dictionary[word]*(article.count(word)/len(article.split()))\n",
    "            vector += (vec * tf_idf)\n",
    "            tf_idf_weight += tf_idf\n",
    "        if tf_idf_weight != 0:\n",
    "            vector /= tf_idf_weight\n",
    "    tfidf_w2v_vectors_tr.append(vector)\n",
    "    "
   ]
  },
  {
   "cell_type": "code",
   "execution_count": 83,
   "id": "1dff52a5",
   "metadata": {},
   "outputs": [
    {
     "name": "stderr",
     "output_type": "stream",
     "text": [
      "100%|█████████████████████████████████████████████████████████████████████████████████| 10/10 [00:00<00:00, 103.32it/s]\n"
     ]
    }
   ],
   "source": [
    "#Applying tfidf-weighted GloVe vectorization on 10 New Articles\n",
    "\n",
    "tfidf_w2v_vectors_te = []; \n",
    "for article in tqdm(df_onion['processed_text'].values):\n",
    "    vector = np.zeros(50) \n",
    "    tf_idf_weight = 0; \n",
    "    for word in article.split(): \n",
    "        if (word in vector_glove) and (word in tfidf_words):\n",
    "            vec = vector_glove[word]\n",
    "            tf_idf = dictionary[word]*(article.count(word)/len(article.split()))\n",
    "            vector += (vec * tf_idf)\n",
    "            tf_idf_weight += tf_idf\n",
    "        if tf_idf_weight != 0:\n",
    "            vector /= tf_idf_weight\n",
    "    tfidf_w2v_vectors_te.append(vector)"
   ]
  },
  {
   "cell_type": "code",
   "execution_count": 84,
   "id": "bc2be303",
   "metadata": {},
   "outputs": [],
   "source": [
    "DT_GLOVE = DecisionTreeClassifier(max_depth=10, max_leaf_nodes=90, min_samples_leaf=7, max_features=None, splitter= 'best')\n",
    "DT_GLOVE.fit(tfidf_w2v_vectors_tr, df_final['label'].values)\n",
    "preds = DT_GLOVE.predict(tfidf_w2v_vectors_te)"
   ]
  },
  {
   "cell_type": "code",
   "execution_count": 85,
   "id": "ea2d87a3",
   "metadata": {},
   "outputs": [
    {
     "data": {
      "text/plain": [
       "array([1, 1, 0, 0, 1, 1, 1, 1, 1, 1], dtype=int64)"
      ]
     },
     "execution_count": 85,
     "metadata": {},
     "output_type": "execute_result"
    }
   ],
   "source": [
    "preds"
   ]
  },
  {
   "cell_type": "markdown",
   "id": "78a0608c",
   "metadata": {},
   "source": [
    "#### Predictions using RF + TF-IDF Weighted GloVe"
   ]
  },
  {
   "cell_type": "code",
   "execution_count": 87,
   "id": "f902cce3",
   "metadata": {},
   "outputs": [],
   "source": [
    "RF_GLOVE = RandomForestClassifier(max_depth= 200, max_features= 'auto', n_estimators= 200)\n",
    "RF_GLOVE.fit(tfidf_w2v_vectors_tr, df_final['label'].values)\n",
    "preds = RF_GLOVE.predict(tfidf_w2v_vectors_te)"
   ]
  },
  {
   "cell_type": "code",
   "execution_count": 88,
   "id": "0a37416e",
   "metadata": {},
   "outputs": [
    {
     "data": {
      "text/plain": [
       "array([1, 1, 1, 1, 1, 1, 1, 1, 1, 1], dtype=int64)"
      ]
     },
     "execution_count": 88,
     "metadata": {},
     "output_type": "execute_result"
    }
   ],
   "source": [
    "preds"
   ]
  },
  {
   "cell_type": "markdown",
   "id": "f9bd14dd",
   "metadata": {},
   "source": [
    "#### Predictions using GBDT + TF-IDF Weighted GloVe"
   ]
  },
  {
   "cell_type": "code",
   "execution_count": 90,
   "id": "9315845c",
   "metadata": {},
   "outputs": [],
   "source": [
    "lgb_GLOVE = lgb.LGBMClassifier(max_depth= 10, max_features= 'auto', n_estimators= 400)\n",
    "lgb_GLOVE.fit(tfidf_w2v_vectors_tr, df_final['label'].values)\n",
    "preds = lgb_GLOVE.predict(tfidf_w2v_vectors_te)"
   ]
  },
  {
   "cell_type": "code",
   "execution_count": 91,
   "id": "f80d2a84",
   "metadata": {},
   "outputs": [
    {
     "data": {
      "text/plain": [
       "array([1, 1, 0, 1, 1, 1, 1, 1, 1, 1], dtype=int64)"
      ]
     },
     "execution_count": 91,
     "metadata": {},
     "output_type": "execute_result"
    }
   ],
   "source": [
    "preds"
   ]
  },
  {
   "cell_type": "code",
   "execution_count": 10,
   "id": "766ffd0e",
   "metadata": {},
   "outputs": [
    {
     "data": {
      "text/html": [
       "<div>\n",
       "<style scoped>\n",
       "    .dataframe tbody tr th:only-of-type {\n",
       "        vertical-align: middle;\n",
       "    }\n",
       "\n",
       "    .dataframe tbody tr th {\n",
       "        vertical-align: top;\n",
       "    }\n",
       "\n",
       "    .dataframe thead th {\n",
       "        text-align: right;\n",
       "    }\n",
       "</style>\n",
       "<table border=\"1\" class=\"dataframe\">\n",
       "  <thead>\n",
       "    <tr style=\"text-align: right;\">\n",
       "      <th></th>\n",
       "      <th>lr_tfidf</th>\n",
       "      <th>dt_glove</th>\n",
       "      <th>rf_glove</th>\n",
       "      <th>gbdt_glove</th>\n",
       "    </tr>\n",
       "  </thead>\n",
       "  <tbody>\n",
       "    <tr>\n",
       "      <th>0</th>\n",
       "      <td>0.888889</td>\n",
       "      <td>0.769231</td>\n",
       "      <td>0.666667</td>\n",
       "      <td>0.714286</td>\n",
       "    </tr>\n",
       "  </tbody>\n",
       "</table>\n",
       "</div>"
      ],
      "text/plain": [
       "   lr_tfidf  dt_glove  rf_glove  gbdt_glove\n",
       "0  0.888889  0.769231  0.666667    0.714286"
      ]
     },
     "execution_count": 10,
     "metadata": {},
     "output_type": "execute_result"
    }
   ],
   "source": [
    "import pandas as pd\n",
    "import matplotlib.pyplot as plt\n",
    "import seaborn as sns\n",
    "from sklearn.metrics import f1_score\n",
    "\n",
    "lr_tfidf = [0, 0, 0, 0, 0, 1, 1, 1, 0, 1]\n",
    "dt_glove = [1, 1, 0, 0, 1, 1, 1, 1, 1, 1]\n",
    "rf_glove = [1, 1, 1, 1, 1, 1, 1, 1, 1, 1]\n",
    "gbdt_glove = [1, 1, 0, 1, 1, 1, 1, 1, 1, 1]\n",
    "actual = [0,0,0,0,0,1,1,1,1,1]\n",
    "\n",
    "df_temp = pd.DataFrame({'lr_tfidf':f1_score(lr_tfidf,actual),'dt_glove':f1_score(dt_glove,actual),'rf_glove':f1_score(rf_glove,actual),'gbdt_glove':f1_score(gbdt_glove,actual)}, index=[0])\n",
    "\n",
    "df_temp\n",
    "\n"
   ]
  },
  {
   "cell_type": "code",
   "execution_count": 20,
   "id": "7fb34504",
   "metadata": {},
   "outputs": [
    {
     "data": {
      "text/plain": [
       "Text(0, 0.5, 'F1-Score')"
      ]
     },
     "execution_count": 20,
     "metadata": {},
     "output_type": "execute_result"
    },
    {
     "data": {
      "image/png": "[encoded data removed]",
      "text/plain": [
       "<Figure size 504x504 with 1 Axes>"
      ]
     },
     "metadata": {
      "needs_background": "light"
     },
     "output_type": "display_data"
    }
   ],
   "source": [
    "plt.figure(figsize=(7,7))\n",
    "sns.barplot(x=df_temp.columns, y=df_temp.values[0])\n",
    "plt.xlabel('Model')\n",
    "plt.ylabel('F1-Score')\n",
    "\n"
   ]
  },
  {
   "cell_type": "code",
   "execution_count": null,
   "id": "c34d2b91",
   "metadata": {},
   "outputs": [],
   "source": []
  }
 ],
 "metadata": {
  "kernelspec": {
   "display_name": "Python 3 (ipykernel)",
   "language": "python",
   "name": "python3"
  },
  "language_info": {
   "codemirror_mode": {
    "name": "ipython",
    "version": 3
   },
   "file_extension": ".py",
   "mimetype": "text/x-python",
   "name": "python",
   "nbconvert_exporter": "python",
   "pygments_lexer": "ipython3",
   "version": "3.9.7"
  }
 },
 "nbformat": 4,
 "nbformat_minor": 5
}
